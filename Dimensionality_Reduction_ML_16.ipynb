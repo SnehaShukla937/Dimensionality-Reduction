{
  "nbformat": 4,
  "nbformat_minor": 0,
  "metadata": {
    "colab": {
      "name": "Dimensionality Reduction ML - 15.ipynb",
      "provenance": []
    },
    "kernelspec": {
      "name": "python3",
      "display_name": "Python 3"
    },
    "accelerator": "GPU"
  },
  "cells": [
    {
      "cell_type": "markdown",
      "metadata": {
        "id": "CWv9go8AYV2N",
        "colab_type": "text"
      },
      "source": [
        "# **Dimensionality Reduction:**\n",
        "\n",
        "**Unsupervised learning** : learning without label (no prior knowledge about data)\n",
        "\n",
        "One of the imp usecase of unsupervised learning is **Dimensionality Reduction.**\n",
        "\n",
        "## **1. Principle Component Analysis (PCA):**\n",
        "   *   Linear dimensionality reduction using *singular value decomposition* of the data to project it to a lower diemnsional space.\n",
        "   *  Statistical procedure that utilise orthogonal transformation technology.\n",
        "   *  Convert possible correlated features(predictors) into linear uncorrelated features (predictors) called as **principle components**.\n",
        "   * no.of principle component <= no.of features.\n",
        "   * First principle component explains the largest possible variance.Second principle component explains the 2nd largest possible variance and so on.\n",
        "   * Each subsequent component has the highest variance subject to the restriction that it must be orthogonal to the preceding element.\n",
        "   * A collection of components are called as vectors.\n",
        "   * sensitive to scaling.\n",
        "\n",
        "## **2. Linear Discriminant Analysis (LDA):**\n",
        "  * Most commonly used as the dimensionality reduction technique in the preprocessing step of ML and Pattern recognition applications.\n",
        "  * Goal is to project dataset into a lower dimensionality space with good class-saperablity in order to avoid overfitting (curse of dimensionality) and also reduce computational cost.\n",
        "  * Locate the boundary around cluster of classes.\n",
        "  * projects data points on a line.\n",
        "  * A centroid will be located to each cluster or have a centre nearby.\n",
        "\n",
        "### **Other Dimensionality reduction techniques:**\n",
        "1. MultiDimensional Scaling (MDS)\n",
        "2. Isomap (Isometric mapping)\n",
        "3. t-distributed stochastic neighbor embedding (t-SNE)"
      ]
    },
    {
      "cell_type": "markdown",
      "metadata": {
        "id": "L6Ucn-w_h5kL",
        "colab_type": "text"
      },
      "source": [
        "## **Linear Algebra: Matrix Multiplication**  "
      ]
    },
    {
      "cell_type": "code",
      "metadata": {
        "id": "IledlmYKhdP1",
        "colab_type": "code",
        "colab": {}
      },
      "source": [
        "a = [[1,2],[10,20]]"
      ],
      "execution_count": 45,
      "outputs": []
    },
    {
      "cell_type": "code",
      "metadata": {
        "id": "qRuGBqqaiKl4",
        "colab_type": "code",
        "colab": {}
      },
      "source": [
        "b = [[1,2],[100,200]]"
      ],
      "execution_count": 46,
      "outputs": []
    },
    {
      "cell_type": "code",
      "metadata": {
        "id": "lMs3JFEdiOlf",
        "colab_type": "code",
        "colab": {}
      },
      "source": [
        "import numpy as np"
      ],
      "execution_count": 47,
      "outputs": []
    },
    {
      "cell_type": "code",
      "metadata": {
        "id": "NGpvNgPNiSfF",
        "colab_type": "code",
        "colab": {
          "base_uri": "https://localhost:8080/",
          "height": 50
        },
        "outputId": "511e1967-129a-40e9-9d5e-a045fa483d4c"
      },
      "source": [
        "np.dot(a,b)"
      ],
      "execution_count": 48,
      "outputs": [
        {
          "output_type": "execute_result",
          "data": {
            "text/plain": [
              "array([[ 201,  402],\n",
              "       [2010, 4020]])"
            ]
          },
          "metadata": {
            "tags": []
          },
          "execution_count": 48
        }
      ]
    },
    {
      "cell_type": "markdown",
      "metadata": {
        "id": "PsbhxoE9lCWt",
        "colab_type": "text"
      },
      "source": [
        "## **Linear PCA:**  \n",
        "\n",
        "**Applications of PCA:**\n",
        "\n",
        ">mostly used as a tool in exploratory data analysis and for making predictive models.\n",
        "\n",
        ">used to visualize genetic distance and relatedness between populations.\n",
        "\n",
        "> Data compression \n",
        "\n",
        "> Visualization\n",
        "\n",
        "> noise filtering\n",
        " \n",
        ">feature extraction.\n",
        "\n",
        "**Methods in PCA:**\n",
        "\n",
        ">Eigenvalue decomposition of a data covariance (or correlation) matrix.\n",
        "\n",
        ">Singular value decomposition of a data matrix(after mean centering / normalizing the data matrix for each attribute)\n",
        "\n",
        "**Output in PCA:**\n",
        "\n",
        ">Component scores (factor scores or the transformed variable values)\n",
        "\n",
        ">loadings (the weight)"
      ]
    },
    {
      "cell_type": "code",
      "metadata": {
        "id": "L3PlPVIfiT60",
        "colab_type": "code",
        "colab": {}
      },
      "source": [
        "import numpy as np\n",
        "import pandas as pd\n",
        "import matplotlib\n",
        "import matplotlib.pyplot as plt\n",
        "%matplotlib inline\n",
        "import seaborn as sns\n",
        "import sklearn\n",
        "sns.set()"
      ],
      "execution_count": 49,
      "outputs": []
    },
    {
      "cell_type": "code",
      "metadata": {
        "id": "LCpb6a-in8_J",
        "colab_type": "code",
        "colab": {
          "base_uri": "https://localhost:8080/",
          "height": 34
        },
        "outputId": "ebe58299-11e2-44ae-d10d-509dfacbae38"
      },
      "source": [
        "r = np.random.RandomState(42)\n",
        "x = np.dot(r.rand(2,2),r.randn(2,500)).T\n",
        "x.shape"
      ],
      "execution_count": 50,
      "outputs": [
        {
          "output_type": "execute_result",
          "data": {
            "text/plain": [
              "(500, 2)"
            ]
          },
          "metadata": {
            "tags": []
          },
          "execution_count": 50
        }
      ]
    },
    {
      "cell_type": "code",
      "metadata": {
        "id": "CkFIkbwwoepx",
        "colab_type": "code",
        "colab": {}
      },
      "source": [
        "x[:,0] = -x[:,0]"
      ],
      "execution_count": 51,
      "outputs": []
    },
    {
      "cell_type": "code",
      "metadata": {
        "id": "KE0i5K_1o16c",
        "colab_type": "code",
        "colab": {
          "base_uri": "https://localhost:8080/",
          "height": 285
        },
        "outputId": "a03e46ab-23f5-42b0-fe2d-5028737d0ddd"
      },
      "source": [
        "plt.scatter(x[:,0],x[:,1])\n",
        "plt.axis('equal')"
      ],
      "execution_count": 52,
      "outputs": [
        {
          "output_type": "execute_result",
          "data": {
            "text/plain": [
              "(-3.36000306145041, 3.3314115919910354, -2.881825799615855, 4.1556598184440166)"
            ]
          },
          "metadata": {
            "tags": []
          },
          "execution_count": 52
        },
        {
          "output_type": "display_data",
          "data": {
            "image/png": "[encoded data removed]",
            "text/plain": [
              "<Figure size 432x288 with 1 Axes>"
            ]
          },
          "metadata": {
            "tags": []
          }
        }
      ]
    },
    {
      "cell_type": "markdown",
      "metadata": {
        "id": "BL-39vJkpN1s",
        "colab_type": "text"
      },
      "source": [
        "### **Principle Component Identification:**"
      ]
    },
    {
      "cell_type": "code",
      "metadata": {
        "id": "GSrNxasKo_2Z",
        "colab_type": "code",
        "colab": {}
      },
      "source": [
        "from sklearn.decomposition import PCA"
      ],
      "execution_count": 53,
      "outputs": []
    },
    {
      "cell_type": "code",
      "metadata": {
        "id": "WSczP3pEpi3C",
        "colab_type": "code",
        "colab": {
          "base_uri": "https://localhost:8080/",
          "height": 50
        },
        "outputId": "9ce819b9-458c-4567-ec32-98eea156aa88"
      },
      "source": [
        "pca = PCA(n_components=2)\n",
        "pca.fit(x)"
      ],
      "execution_count": 54,
      "outputs": [
        {
          "output_type": "execute_result",
          "data": {
            "text/plain": [
              "PCA(copy=True, iterated_power='auto', n_components=2, random_state=None,\n",
              "    svd_solver='auto', tol=0.0, whiten=False)"
            ]
          },
          "metadata": {
            "tags": []
          },
          "execution_count": 54
        }
      ]
    },
    {
      "cell_type": "code",
      "metadata": {
        "id": "8NnBf5DKps78",
        "colab_type": "code",
        "colab": {
          "base_uri": "https://localhost:8080/",
          "height": 50
        },
        "outputId": "e4111524-c355-4a4b-92da-d0c56d6cc656"
      },
      "source": [
        "pca.components_"
      ],
      "execution_count": 55,
      "outputs": [
        {
          "output_type": "execute_result",
          "data": {
            "text/plain": [
              "array([[-0.74062812,  0.67191517],\n",
              "       [-0.67191517, -0.74062812]])"
            ]
          },
          "metadata": {
            "tags": []
          },
          "execution_count": 55
        }
      ]
    },
    {
      "cell_type": "code",
      "metadata": {
        "id": "ISStxJrepwkl",
        "colab_type": "code",
        "colab": {
          "base_uri": "https://localhost:8080/",
          "height": 34
        },
        "outputId": "b9fd7151-c8af-45e9-c50e-1f4d41f116be"
      },
      "source": [
        "pca.explained_variance_"
      ],
      "execution_count": 56,
      "outputs": [
        {
          "output_type": "execute_result",
          "data": {
            "text/plain": [
              "array([1.62123504, 0.12581594])"
            ]
          },
          "metadata": {
            "tags": []
          },
          "execution_count": 56
        }
      ]
    },
    {
      "cell_type": "code",
      "metadata": {
        "id": "VQNnWW0Vp1aV",
        "colab_type": "code",
        "colab": {
          "base_uri": "https://localhost:8080/",
          "height": 34
        },
        "outputId": "1868b13b-9d19-499e-e007-f651f9b5477d"
      },
      "source": [
        "pca.explained_variance_ratio_"
      ],
      "execution_count": 57,
      "outputs": [
        {
          "output_type": "execute_result",
          "data": {
            "text/plain": [
              "array([0.92798382, 0.07201618])"
            ]
          },
          "metadata": {
            "tags": []
          },
          "execution_count": 57
        }
      ]
    },
    {
      "cell_type": "code",
      "metadata": {
        "id": "VBB4indSp4de",
        "colab_type": "code",
        "colab": {
          "base_uri": "https://localhost:8080/",
          "height": 285
        },
        "outputId": "9c1ae70d-42b7-4c22-db95-9c70b753426a"
      },
      "source": [
        "plt.scatter(x[:,0],x[:,1],alpha=0.3)\n",
        "\n",
        "for k,v in zip(pca.explained_variance_,pca.components_):\n",
        "  vec = v * 3 * np.sqrt(k)\n",
        "\n",
        "  ax = plt.gca()\n",
        "  arrow = dict(arrowstyle = '<-',\n",
        "               linewidth = 6,\n",
        "               shrinkA = 0,shrinkB = 0)\n",
        "  ax.annotate('',pca.mean_,pca.mean_+vec,arrowprops = arrow)\n",
        "  ax.text(-0.9,1.2,'PC1',ha = 'center',va = 'center',rotation = -42,size = 12)\n",
        "  ax.text(-0.1,-0.6,'PC2',ha = 'center',va = 'center',rotation = 50,size = 12)\n",
        "plt.axis('equal')"
      ],
      "execution_count": 58,
      "outputs": [
        {
          "output_type": "execute_result",
          "data": {
            "text/plain": [
              "(-3.36000306145041, 3.3314115919910354, -2.881825799615855, 4.1556598184440166)"
            ]
          },
          "metadata": {
            "tags": []
          },
          "execution_count": 58
        },
        {
          "output_type": "display_data",
          "data": {
            "image/png": "[encoded data removed]",
            "text/plain": [
              "<Figure size 432x288 with 1 Axes>"
            ]
          },
          "metadata": {
            "tags": []
          }
        }
      ]
    },
    {
      "cell_type": "markdown",
      "metadata": {
        "id": "t6W-wrl0ue6Z",
        "colab_type": "text"
      },
      "source": [
        "Analysis on plot:\n",
        "> 2 -d principle components.\n",
        "\n",
        "> Length denotes the significance.\n",
        "\n",
        "> transformation from data axes to priciple axes ---> Affine transformation (composed of translation,rotation,uniform scaling)\n"
      ]
    },
    {
      "cell_type": "markdown",
      "metadata": {
        "id": "VDge3TsGwVUv",
        "colab_type": "text"
      },
      "source": [
        "## **Dimensionality Reduction with PCA:** "
      ]
    },
    {
      "cell_type": "code",
      "metadata": {
        "id": "rQSuQb8_tspP",
        "colab_type": "code",
        "colab": {}
      },
      "source": [
        "pca = PCA(n_components=1)\n",
        "pca.fit(x)\n",
        "x_pca = pca.transform(x)"
      ],
      "execution_count": 59,
      "outputs": []
    },
    {
      "cell_type": "code",
      "metadata": {
        "id": "e9KssQDCwzwe",
        "colab_type": "code",
        "colab": {
          "base_uri": "https://localhost:8080/",
          "height": 34
        },
        "outputId": "a8bde663-3755-4b4f-b161-d5bfe3244f65"
      },
      "source": [
        "x.shape"
      ],
      "execution_count": 60,
      "outputs": [
        {
          "output_type": "execute_result",
          "data": {
            "text/plain": [
              "(500, 2)"
            ]
          },
          "metadata": {
            "tags": []
          },
          "execution_count": 60
        }
      ]
    },
    {
      "cell_type": "code",
      "metadata": {
        "id": "fOoVo4jZw1kL",
        "colab_type": "code",
        "colab": {
          "base_uri": "https://localhost:8080/",
          "height": 34
        },
        "outputId": "21d2aa2c-92fa-499e-8493-2067dfee376d"
      },
      "source": [
        "x_pca.shape"
      ],
      "execution_count": 61,
      "outputs": [
        {
          "output_type": "execute_result",
          "data": {
            "text/plain": [
              "(500, 1)"
            ]
          },
          "metadata": {
            "tags": []
          },
          "execution_count": 61
        }
      ]
    },
    {
      "cell_type": "code",
      "metadata": {
        "id": "rAQAjLR3w8J9",
        "colab_type": "code",
        "colab": {
          "base_uri": "https://localhost:8080/",
          "height": 611
        },
        "outputId": "540345a8-d078-4fb5-ec3c-06e1f6fc871a"
      },
      "source": [
        "plt.figure(figsize=(12,10))\n",
        "x_new = pca.inverse_transform(x_pca)\n",
        "plt.scatter(x[:,0],x[:,1],alpha=0.2)\n",
        "plt.scatter(x_new[:,0],x_new[:,1],alpha=0.8)\n",
        "plt.axis('equal')"
      ],
      "execution_count": 62,
      "outputs": [
        {
          "output_type": "execute_result",
          "data": {
            "text/plain": [
              "(-3.9188024367345227, 3.358021086052184, -2.971613372818548, 4.159935417167954)"
            ]
          },
          "metadata": {
            "tags": []
          },
          "execution_count": 62
        },
        {
          "output_type": "display_data",
          "data": {
            "image/png": "[encoded data removed]",
            "text/plain": [
              "<Figure size 864x720 with 1 Axes>"
            ]
          },
          "metadata": {
            "tags": []
          }
        }
      ]
    },
    {
      "cell_type": "markdown",
      "metadata": {
        "id": "-XrBFEesxxAG",
        "colab_type": "text"
      },
      "source": [
        "> The light blue dots are original data.\n",
        "\n",
        "> orange line is PCA."
      ]
    },
    {
      "cell_type": "code",
      "metadata": {
        "id": "zanowhvWxpL2",
        "colab_type": "code",
        "colab": {}
      },
      "source": [
        ""
      ],
      "execution_count": 62,
      "outputs": []
    }
  ]
}