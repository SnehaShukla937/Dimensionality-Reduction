{
 "cells": [
  {
   "cell_type": "markdown",
   "metadata": {
    "colab_type": "text",
    "id": "668vGlv7yshj"
   },
   "source": [
    "# **Dimensionality Reduction by extracting Principle Components**\n",
    "\n",
    "### **Project Wine:**  wine recognition data\n",
    "source: [UCI](https://archive.ics.uci.edu/ml/datasets/wine)"
   ]
  },
  {
   "cell_type": "code",
   "execution_count": 182,
   "metadata": {
    "colab": {},
    "colab_type": "code",
    "id": "Jppn-ujKycn0"
   },
   "outputs": [],
   "source": [
    "import numpy as np\n",
    "import pandas as pd\n",
    "import matplotlib\n",
    "import matplotlib.pyplot as plt\n",
    "%matplotlib inline\n",
    "import seaborn as sns\n",
    "import sklearn\n",
    "sns.set()"
   ]
  },
  {
   "cell_type": "code",
   "execution_count": 183,
   "metadata": {
    "colab": {
     "base_uri": "https://localhost:8080/",
     "height": 202
    },
    "colab_type": "code",
    "id": "mpnKKLH_5D5C",
    "outputId": "fade01ea-59e7-406f-ce25-92a553cfcec6"
   },
   "outputs": [
    {
     "name": "stdout",
     "output_type": "stream",
     "text": [
      "--2020-08-17 17:12:36--  https://archive.ics.uci.edu/ml/machine-learning-databases/wine/wine.data\n",
      "Resolving archive.ics.uci.edu (archive.ics.uci.edu)... 128.195.10.252\n",
      "Connecting to archive.ics.uci.edu (archive.ics.uci.edu)|128.195.10.252|:443... connected.\n",
      "HTTP request sent, awaiting response... 200 OK\n",
      "Length: 10782 (11K) [application/x-httpd-php]\n",
      "Saving to: ‘wine.data.3’\n",
      "\n",
      "\r",
      "wine.data.3           0%[                    ]       0  --.-KB/s               \r",
      "wine.data.3         100%[===================>]  10.53K  --.-KB/s    in 0s      \n",
      "\n",
      "2020-08-17 17:12:37 (75.2 MB/s) - ‘wine.data.3’ saved [10782/10782]\n",
      "\n"
     ]
    }
   ],
   "source": [
    "!wget https://archive.ics.uci.edu/ml/machine-learning-databases/wine/wine.data"
   ]
  },
  {
   "cell_type": "code",
   "execution_count": 184,
   "metadata": {
    "colab": {
     "base_uri": "https://localhost:8080/",
     "height": 34
    },
    "colab_type": "code",
    "id": "_x1-VEeT5Pb0",
    "outputId": "dbd883de-4037-4530-ad85-d9432e32f46d"
   },
   "outputs": [
    {
     "name": "stdout",
     "output_type": "stream",
     "text": [
      "sample_data  wine.data\twine.data.1  wine.data.2  wine.data.3\n"
     ]
    }
   ],
   "source": [
    "!ls\n"
   ]
  },
  {
   "cell_type": "code",
   "execution_count": 185,
   "metadata": {
    "colab": {
     "base_uri": "https://localhost:8080/",
     "height": 402
    },
    "colab_type": "code",
    "id": "1ZQvVEQS5SL-",
    "outputId": "584f3c68-c322-45d4-9b7a-8c7c68255875"
   },
   "outputs": [
    {
     "data": {
      "text/html": [
       "<div>\n",
       "<style scoped>\n",
       "    .dataframe tbody tr th:only-of-type {\n",
       "        vertical-align: middle;\n",
       "    }\n",
       "\n",
       "    .dataframe tbody tr th {\n",
       "        vertical-align: top;\n",
       "    }\n",
       "\n",
       "    .dataframe thead th {\n",
       "        text-align: right;\n",
       "    }\n",
       "</style>\n",
       "<table border=\"1\" class=\"dataframe\">\n",
       "  <thead>\n",
       "    <tr style=\"text-align: right;\">\n",
       "      <th></th>\n",
       "      <th>0</th>\n",
       "      <th>1</th>\n",
       "      <th>2</th>\n",
       "      <th>3</th>\n",
       "      <th>4</th>\n",
       "      <th>5</th>\n",
       "      <th>6</th>\n",
       "      <th>7</th>\n",
       "      <th>8</th>\n",
       "      <th>9</th>\n",
       "      <th>10</th>\n",
       "      <th>11</th>\n",
       "      <th>12</th>\n",
       "      <th>13</th>\n",
       "    </tr>\n",
       "  </thead>\n",
       "  <tbody>\n",
       "    <tr>\n",
       "      <th>0</th>\n",
       "      <td>1</td>\n",
       "      <td>14.23</td>\n",
       "      <td>1.71</td>\n",
       "      <td>2.43</td>\n",
       "      <td>15.6</td>\n",
       "      <td>127</td>\n",
       "      <td>2.80</td>\n",
       "      <td>3.06</td>\n",
       "      <td>0.28</td>\n",
       "      <td>2.29</td>\n",
       "      <td>5.64</td>\n",
       "      <td>1.04</td>\n",
       "      <td>3.92</td>\n",
       "      <td>1065</td>\n",
       "    </tr>\n",
       "    <tr>\n",
       "      <th>1</th>\n",
       "      <td>1</td>\n",
       "      <td>13.20</td>\n",
       "      <td>1.78</td>\n",
       "      <td>2.14</td>\n",
       "      <td>11.2</td>\n",
       "      <td>100</td>\n",
       "      <td>2.65</td>\n",
       "      <td>2.76</td>\n",
       "      <td>0.26</td>\n",
       "      <td>1.28</td>\n",
       "      <td>4.38</td>\n",
       "      <td>1.05</td>\n",
       "      <td>3.40</td>\n",
       "      <td>1050</td>\n",
       "    </tr>\n",
       "    <tr>\n",
       "      <th>2</th>\n",
       "      <td>1</td>\n",
       "      <td>13.16</td>\n",
       "      <td>2.36</td>\n",
       "      <td>2.67</td>\n",
       "      <td>18.6</td>\n",
       "      <td>101</td>\n",
       "      <td>2.80</td>\n",
       "      <td>3.24</td>\n",
       "      <td>0.30</td>\n",
       "      <td>2.81</td>\n",
       "      <td>5.68</td>\n",
       "      <td>1.03</td>\n",
       "      <td>3.17</td>\n",
       "      <td>1185</td>\n",
       "    </tr>\n",
       "    <tr>\n",
       "      <th>3</th>\n",
       "      <td>1</td>\n",
       "      <td>14.37</td>\n",
       "      <td>1.95</td>\n",
       "      <td>2.50</td>\n",
       "      <td>16.8</td>\n",
       "      <td>113</td>\n",
       "      <td>3.85</td>\n",
       "      <td>3.49</td>\n",
       "      <td>0.24</td>\n",
       "      <td>2.18</td>\n",
       "      <td>7.80</td>\n",
       "      <td>0.86</td>\n",
       "      <td>3.45</td>\n",
       "      <td>1480</td>\n",
       "    </tr>\n",
       "    <tr>\n",
       "      <th>4</th>\n",
       "      <td>1</td>\n",
       "      <td>13.24</td>\n",
       "      <td>2.59</td>\n",
       "      <td>2.87</td>\n",
       "      <td>21.0</td>\n",
       "      <td>118</td>\n",
       "      <td>2.80</td>\n",
       "      <td>2.69</td>\n",
       "      <td>0.39</td>\n",
       "      <td>1.82</td>\n",
       "      <td>4.32</td>\n",
       "      <td>1.04</td>\n",
       "      <td>2.93</td>\n",
       "      <td>735</td>\n",
       "    </tr>\n",
       "    <tr>\n",
       "      <th>...</th>\n",
       "      <td>...</td>\n",
       "      <td>...</td>\n",
       "      <td>...</td>\n",
       "      <td>...</td>\n",
       "      <td>...</td>\n",
       "      <td>...</td>\n",
       "      <td>...</td>\n",
       "      <td>...</td>\n",
       "      <td>...</td>\n",
       "      <td>...</td>\n",
       "      <td>...</td>\n",
       "      <td>...</td>\n",
       "      <td>...</td>\n",
       "      <td>...</td>\n",
       "    </tr>\n",
       "    <tr>\n",
       "      <th>173</th>\n",
       "      <td>3</td>\n",
       "      <td>13.71</td>\n",
       "      <td>5.65</td>\n",
       "      <td>2.45</td>\n",
       "      <td>20.5</td>\n",
       "      <td>95</td>\n",
       "      <td>1.68</td>\n",
       "      <td>0.61</td>\n",
       "      <td>0.52</td>\n",
       "      <td>1.06</td>\n",
       "      <td>7.70</td>\n",
       "      <td>0.64</td>\n",
       "      <td>1.74</td>\n",
       "      <td>740</td>\n",
       "    </tr>\n",
       "    <tr>\n",
       "      <th>174</th>\n",
       "      <td>3</td>\n",
       "      <td>13.40</td>\n",
       "      <td>3.91</td>\n",
       "      <td>2.48</td>\n",
       "      <td>23.0</td>\n",
       "      <td>102</td>\n",
       "      <td>1.80</td>\n",
       "      <td>0.75</td>\n",
       "      <td>0.43</td>\n",
       "      <td>1.41</td>\n",
       "      <td>7.30</td>\n",
       "      <td>0.70</td>\n",
       "      <td>1.56</td>\n",
       "      <td>750</td>\n",
       "    </tr>\n",
       "    <tr>\n",
       "      <th>175</th>\n",
       "      <td>3</td>\n",
       "      <td>13.27</td>\n",
       "      <td>4.28</td>\n",
       "      <td>2.26</td>\n",
       "      <td>20.0</td>\n",
       "      <td>120</td>\n",
       "      <td>1.59</td>\n",
       "      <td>0.69</td>\n",
       "      <td>0.43</td>\n",
       "      <td>1.35</td>\n",
       "      <td>10.20</td>\n",
       "      <td>0.59</td>\n",
       "      <td>1.56</td>\n",
       "      <td>835</td>\n",
       "    </tr>\n",
       "    <tr>\n",
       "      <th>176</th>\n",
       "      <td>3</td>\n",
       "      <td>13.17</td>\n",
       "      <td>2.59</td>\n",
       "      <td>2.37</td>\n",
       "      <td>20.0</td>\n",
       "      <td>120</td>\n",
       "      <td>1.65</td>\n",
       "      <td>0.68</td>\n",
       "      <td>0.53</td>\n",
       "      <td>1.46</td>\n",
       "      <td>9.30</td>\n",
       "      <td>0.60</td>\n",
       "      <td>1.62</td>\n",
       "      <td>840</td>\n",
       "    </tr>\n",
       "    <tr>\n",
       "      <th>177</th>\n",
       "      <td>3</td>\n",
       "      <td>14.13</td>\n",
       "      <td>4.10</td>\n",
       "      <td>2.74</td>\n",
       "      <td>24.5</td>\n",
       "      <td>96</td>\n",
       "      <td>2.05</td>\n",
       "      <td>0.76</td>\n",
       "      <td>0.56</td>\n",
       "      <td>1.35</td>\n",
       "      <td>9.20</td>\n",
       "      <td>0.61</td>\n",
       "      <td>1.60</td>\n",
       "      <td>560</td>\n",
       "    </tr>\n",
       "  </tbody>\n",
       "</table>\n",
       "<p>178 rows × 14 columns</p>\n",
       "</div>"
      ],
      "text/plain": [
       "     0      1     2     3     4    5   ...    8     9      10    11    12    13\n",
       "0     1  14.23  1.71  2.43  15.6  127  ...  0.28  2.29   5.64  1.04  3.92  1065\n",
       "1     1  13.20  1.78  2.14  11.2  100  ...  0.26  1.28   4.38  1.05  3.40  1050\n",
       "2     1  13.16  2.36  2.67  18.6  101  ...  0.30  2.81   5.68  1.03  3.17  1185\n",
       "3     1  14.37  1.95  2.50  16.8  113  ...  0.24  2.18   7.80  0.86  3.45  1480\n",
       "4     1  13.24  2.59  2.87  21.0  118  ...  0.39  1.82   4.32  1.04  2.93   735\n",
       "..   ..    ...   ...   ...   ...  ...  ...   ...   ...    ...   ...   ...   ...\n",
       "173   3  13.71  5.65  2.45  20.5   95  ...  0.52  1.06   7.70  0.64  1.74   740\n",
       "174   3  13.40  3.91  2.48  23.0  102  ...  0.43  1.41   7.30  0.70  1.56   750\n",
       "175   3  13.27  4.28  2.26  20.0  120  ...  0.43  1.35  10.20  0.59  1.56   835\n",
       "176   3  13.17  2.59  2.37  20.0  120  ...  0.53  1.46   9.30  0.60  1.62   840\n",
       "177   3  14.13  4.10  2.74  24.5   96  ...  0.56  1.35   9.20  0.61  1.60   560\n",
       "\n",
       "[178 rows x 14 columns]"
      ]
     },
     "execution_count": 185,
     "metadata": {
      "tags": []
     },
     "output_type": "execute_result"
    }
   ],
   "source": [
    "df = pd.read_csv('wine.data',header=None)\n",
    "df"
   ]
  },
  {
   "cell_type": "code",
   "execution_count": 186,
   "metadata": {
    "colab": {},
    "colab_type": "code",
    "id": "ozX-MSM_5gSq"
   },
   "outputs": [],
   "source": [
    "col  = ['class','Alcohol','Malic acid','Ash','Alcalinity of ash','Magnesium','Total phenols',\n",
    "        'Flavanoids','Nonflavanoid phenols','Proanthocyanins','Color intensity','Hue',\n",
    "        'OD280/OD315 of diluted wines','Proline']"
   ]
  },
  {
   "cell_type": "code",
   "execution_count": 187,
   "metadata": {
    "colab": {},
    "colab_type": "code",
    "id": "ocme4hFw7T4E"
   },
   "outputs": [],
   "source": [
    "df.columns = col"
   ]
  },
  {
   "cell_type": "code",
   "execution_count": 188,
   "metadata": {
    "colab": {
     "base_uri": "https://localhost:8080/",
     "height": 229
    },
    "colab_type": "code",
    "id": "mqwB82YX7WRX",
    "outputId": "3911f9e0-1403-4e7f-969d-e127c374effd"
   },
   "outputs": [
    {
     "data": {
      "text/html": [
       "<div>\n",
       "<style scoped>\n",
       "    .dataframe tbody tr th:only-of-type {\n",
       "        vertical-align: middle;\n",
       "    }\n",
       "\n",
       "    .dataframe tbody tr th {\n",
       "        vertical-align: top;\n",
       "    }\n",
       "\n",
       "    .dataframe thead th {\n",
       "        text-align: right;\n",
       "    }\n",
       "</style>\n",
       "<table border=\"1\" class=\"dataframe\">\n",
       "  <thead>\n",
       "    <tr style=\"text-align: right;\">\n",
       "      <th></th>\n",
       "      <th>class</th>\n",
       "      <th>Alcohol</th>\n",
       "      <th>Malic acid</th>\n",
       "      <th>Ash</th>\n",
       "      <th>Alcalinity of ash</th>\n",
       "      <th>Magnesium</th>\n",
       "      <th>Total phenols</th>\n",
       "      <th>Flavanoids</th>\n",
       "      <th>Nonflavanoid phenols</th>\n",
       "      <th>Proanthocyanins</th>\n",
       "      <th>Color intensity</th>\n",
       "      <th>Hue</th>\n",
       "      <th>OD280/OD315 of diluted wines</th>\n",
       "      <th>Proline</th>\n",
       "    </tr>\n",
       "  </thead>\n",
       "  <tbody>\n",
       "    <tr>\n",
       "      <th>0</th>\n",
       "      <td>1</td>\n",
       "      <td>14.23</td>\n",
       "      <td>1.71</td>\n",
       "      <td>2.43</td>\n",
       "      <td>15.6</td>\n",
       "      <td>127</td>\n",
       "      <td>2.80</td>\n",
       "      <td>3.06</td>\n",
       "      <td>0.28</td>\n",
       "      <td>2.29</td>\n",
       "      <td>5.64</td>\n",
       "      <td>1.04</td>\n",
       "      <td>3.92</td>\n",
       "      <td>1065</td>\n",
       "    </tr>\n",
       "    <tr>\n",
       "      <th>1</th>\n",
       "      <td>1</td>\n",
       "      <td>13.20</td>\n",
       "      <td>1.78</td>\n",
       "      <td>2.14</td>\n",
       "      <td>11.2</td>\n",
       "      <td>100</td>\n",
       "      <td>2.65</td>\n",
       "      <td>2.76</td>\n",
       "      <td>0.26</td>\n",
       "      <td>1.28</td>\n",
       "      <td>4.38</td>\n",
       "      <td>1.05</td>\n",
       "      <td>3.40</td>\n",
       "      <td>1050</td>\n",
       "    </tr>\n",
       "    <tr>\n",
       "      <th>2</th>\n",
       "      <td>1</td>\n",
       "      <td>13.16</td>\n",
       "      <td>2.36</td>\n",
       "      <td>2.67</td>\n",
       "      <td>18.6</td>\n",
       "      <td>101</td>\n",
       "      <td>2.80</td>\n",
       "      <td>3.24</td>\n",
       "      <td>0.30</td>\n",
       "      <td>2.81</td>\n",
       "      <td>5.68</td>\n",
       "      <td>1.03</td>\n",
       "      <td>3.17</td>\n",
       "      <td>1185</td>\n",
       "    </tr>\n",
       "    <tr>\n",
       "      <th>3</th>\n",
       "      <td>1</td>\n",
       "      <td>14.37</td>\n",
       "      <td>1.95</td>\n",
       "      <td>2.50</td>\n",
       "      <td>16.8</td>\n",
       "      <td>113</td>\n",
       "      <td>3.85</td>\n",
       "      <td>3.49</td>\n",
       "      <td>0.24</td>\n",
       "      <td>2.18</td>\n",
       "      <td>7.80</td>\n",
       "      <td>0.86</td>\n",
       "      <td>3.45</td>\n",
       "      <td>1480</td>\n",
       "    </tr>\n",
       "    <tr>\n",
       "      <th>4</th>\n",
       "      <td>1</td>\n",
       "      <td>13.24</td>\n",
       "      <td>2.59</td>\n",
       "      <td>2.87</td>\n",
       "      <td>21.0</td>\n",
       "      <td>118</td>\n",
       "      <td>2.80</td>\n",
       "      <td>2.69</td>\n",
       "      <td>0.39</td>\n",
       "      <td>1.82</td>\n",
       "      <td>4.32</td>\n",
       "      <td>1.04</td>\n",
       "      <td>2.93</td>\n",
       "      <td>735</td>\n",
       "    </tr>\n",
       "  </tbody>\n",
       "</table>\n",
       "</div>"
      ],
      "text/plain": [
       "   class  Alcohol  Malic acid  ...   Hue  OD280/OD315 of diluted wines  Proline\n",
       "0      1    14.23        1.71  ...  1.04                          3.92     1065\n",
       "1      1    13.20        1.78  ...  1.05                          3.40     1050\n",
       "2      1    13.16        2.36  ...  1.03                          3.17     1185\n",
       "3      1    14.37        1.95  ...  0.86                          3.45     1480\n",
       "4      1    13.24        2.59  ...  1.04                          2.93      735\n",
       "\n",
       "[5 rows x 14 columns]"
      ]
     },
     "execution_count": 188,
     "metadata": {
      "tags": []
     },
     "output_type": "execute_result"
    }
   ],
   "source": [
    "df.head()"
   ]
  },
  {
   "cell_type": "code",
   "execution_count": 189,
   "metadata": {
    "colab": {
     "base_uri": "https://localhost:8080/",
     "height": 435
    },
    "colab_type": "code",
    "id": "1rvpabiv7Xym",
    "outputId": "4b296065-80a3-4b8f-d404-93e820c42cc2"
   },
   "outputs": [
    {
     "data": {
      "text/html": [
       "<div>\n",
       "<style scoped>\n",
       "    .dataframe tbody tr th:only-of-type {\n",
       "        vertical-align: middle;\n",
       "    }\n",
       "\n",
       "    .dataframe tbody tr th {\n",
       "        vertical-align: top;\n",
       "    }\n",
       "\n",
       "    .dataframe thead th {\n",
       "        text-align: right;\n",
       "    }\n",
       "</style>\n",
       "<table border=\"1\" class=\"dataframe\">\n",
       "  <thead>\n",
       "    <tr style=\"text-align: right;\">\n",
       "      <th></th>\n",
       "      <th>Alcohol</th>\n",
       "      <th>Malic acid</th>\n",
       "      <th>Ash</th>\n",
       "      <th>Alcalinity of ash</th>\n",
       "      <th>Magnesium</th>\n",
       "      <th>Total phenols</th>\n",
       "      <th>Flavanoids</th>\n",
       "      <th>Nonflavanoid phenols</th>\n",
       "      <th>Proanthocyanins</th>\n",
       "      <th>Color intensity</th>\n",
       "      <th>Hue</th>\n",
       "      <th>OD280/OD315 of diluted wines</th>\n",
       "      <th>Proline</th>\n",
       "    </tr>\n",
       "  </thead>\n",
       "  <tbody>\n",
       "    <tr>\n",
       "      <th>0</th>\n",
       "      <td>14.23</td>\n",
       "      <td>1.71</td>\n",
       "      <td>2.43</td>\n",
       "      <td>15.6</td>\n",
       "      <td>127</td>\n",
       "      <td>2.80</td>\n",
       "      <td>3.06</td>\n",
       "      <td>0.28</td>\n",
       "      <td>2.29</td>\n",
       "      <td>5.64</td>\n",
       "      <td>1.04</td>\n",
       "      <td>3.92</td>\n",
       "      <td>1065</td>\n",
       "    </tr>\n",
       "    <tr>\n",
       "      <th>1</th>\n",
       "      <td>13.20</td>\n",
       "      <td>1.78</td>\n",
       "      <td>2.14</td>\n",
       "      <td>11.2</td>\n",
       "      <td>100</td>\n",
       "      <td>2.65</td>\n",
       "      <td>2.76</td>\n",
       "      <td>0.26</td>\n",
       "      <td>1.28</td>\n",
       "      <td>4.38</td>\n",
       "      <td>1.05</td>\n",
       "      <td>3.40</td>\n",
       "      <td>1050</td>\n",
       "    </tr>\n",
       "    <tr>\n",
       "      <th>2</th>\n",
       "      <td>13.16</td>\n",
       "      <td>2.36</td>\n",
       "      <td>2.67</td>\n",
       "      <td>18.6</td>\n",
       "      <td>101</td>\n",
       "      <td>2.80</td>\n",
       "      <td>3.24</td>\n",
       "      <td>0.30</td>\n",
       "      <td>2.81</td>\n",
       "      <td>5.68</td>\n",
       "      <td>1.03</td>\n",
       "      <td>3.17</td>\n",
       "      <td>1185</td>\n",
       "    </tr>\n",
       "    <tr>\n",
       "      <th>3</th>\n",
       "      <td>14.37</td>\n",
       "      <td>1.95</td>\n",
       "      <td>2.50</td>\n",
       "      <td>16.8</td>\n",
       "      <td>113</td>\n",
       "      <td>3.85</td>\n",
       "      <td>3.49</td>\n",
       "      <td>0.24</td>\n",
       "      <td>2.18</td>\n",
       "      <td>7.80</td>\n",
       "      <td>0.86</td>\n",
       "      <td>3.45</td>\n",
       "      <td>1480</td>\n",
       "    </tr>\n",
       "    <tr>\n",
       "      <th>4</th>\n",
       "      <td>13.24</td>\n",
       "      <td>2.59</td>\n",
       "      <td>2.87</td>\n",
       "      <td>21.0</td>\n",
       "      <td>118</td>\n",
       "      <td>2.80</td>\n",
       "      <td>2.69</td>\n",
       "      <td>0.39</td>\n",
       "      <td>1.82</td>\n",
       "      <td>4.32</td>\n",
       "      <td>1.04</td>\n",
       "      <td>2.93</td>\n",
       "      <td>735</td>\n",
       "    </tr>\n",
       "    <tr>\n",
       "      <th>...</th>\n",
       "      <td>...</td>\n",
       "      <td>...</td>\n",
       "      <td>...</td>\n",
       "      <td>...</td>\n",
       "      <td>...</td>\n",
       "      <td>...</td>\n",
       "      <td>...</td>\n",
       "      <td>...</td>\n",
       "      <td>...</td>\n",
       "      <td>...</td>\n",
       "      <td>...</td>\n",
       "      <td>...</td>\n",
       "      <td>...</td>\n",
       "    </tr>\n",
       "    <tr>\n",
       "      <th>173</th>\n",
       "      <td>13.71</td>\n",
       "      <td>5.65</td>\n",
       "      <td>2.45</td>\n",
       "      <td>20.5</td>\n",
       "      <td>95</td>\n",
       "      <td>1.68</td>\n",
       "      <td>0.61</td>\n",
       "      <td>0.52</td>\n",
       "      <td>1.06</td>\n",
       "      <td>7.70</td>\n",
       "      <td>0.64</td>\n",
       "      <td>1.74</td>\n",
       "      <td>740</td>\n",
       "    </tr>\n",
       "    <tr>\n",
       "      <th>174</th>\n",
       "      <td>13.40</td>\n",
       "      <td>3.91</td>\n",
       "      <td>2.48</td>\n",
       "      <td>23.0</td>\n",
       "      <td>102</td>\n",
       "      <td>1.80</td>\n",
       "      <td>0.75</td>\n",
       "      <td>0.43</td>\n",
       "      <td>1.41</td>\n",
       "      <td>7.30</td>\n",
       "      <td>0.70</td>\n",
       "      <td>1.56</td>\n",
       "      <td>750</td>\n",
       "    </tr>\n",
       "    <tr>\n",
       "      <th>175</th>\n",
       "      <td>13.27</td>\n",
       "      <td>4.28</td>\n",
       "      <td>2.26</td>\n",
       "      <td>20.0</td>\n",
       "      <td>120</td>\n",
       "      <td>1.59</td>\n",
       "      <td>0.69</td>\n",
       "      <td>0.43</td>\n",
       "      <td>1.35</td>\n",
       "      <td>10.20</td>\n",
       "      <td>0.59</td>\n",
       "      <td>1.56</td>\n",
       "      <td>835</td>\n",
       "    </tr>\n",
       "    <tr>\n",
       "      <th>176</th>\n",
       "      <td>13.17</td>\n",
       "      <td>2.59</td>\n",
       "      <td>2.37</td>\n",
       "      <td>20.0</td>\n",
       "      <td>120</td>\n",
       "      <td>1.65</td>\n",
       "      <td>0.68</td>\n",
       "      <td>0.53</td>\n",
       "      <td>1.46</td>\n",
       "      <td>9.30</td>\n",
       "      <td>0.60</td>\n",
       "      <td>1.62</td>\n",
       "      <td>840</td>\n",
       "    </tr>\n",
       "    <tr>\n",
       "      <th>177</th>\n",
       "      <td>14.13</td>\n",
       "      <td>4.10</td>\n",
       "      <td>2.74</td>\n",
       "      <td>24.5</td>\n",
       "      <td>96</td>\n",
       "      <td>2.05</td>\n",
       "      <td>0.76</td>\n",
       "      <td>0.56</td>\n",
       "      <td>1.35</td>\n",
       "      <td>9.20</td>\n",
       "      <td>0.61</td>\n",
       "      <td>1.60</td>\n",
       "      <td>560</td>\n",
       "    </tr>\n",
       "  </tbody>\n",
       "</table>\n",
       "<p>178 rows × 13 columns</p>\n",
       "</div>"
      ],
      "text/plain": [
       "     Alcohol  Malic acid   Ash  ...   Hue  OD280/OD315 of diluted wines  Proline\n",
       "0      14.23        1.71  2.43  ...  1.04                          3.92     1065\n",
       "1      13.20        1.78  2.14  ...  1.05                          3.40     1050\n",
       "2      13.16        2.36  2.67  ...  1.03                          3.17     1185\n",
       "3      14.37        1.95  2.50  ...  0.86                          3.45     1480\n",
       "4      13.24        2.59  2.87  ...  1.04                          2.93      735\n",
       "..       ...         ...   ...  ...   ...                           ...      ...\n",
       "173    13.71        5.65  2.45  ...  0.64                          1.74      740\n",
       "174    13.40        3.91  2.48  ...  0.70                          1.56      750\n",
       "175    13.27        4.28  2.26  ...  0.59                          1.56      835\n",
       "176    13.17        2.59  2.37  ...  0.60                          1.62      840\n",
       "177    14.13        4.10  2.74  ...  0.61                          1.60      560\n",
       "\n",
       "[178 rows x 13 columns]"
      ]
     },
     "execution_count": 189,
     "metadata": {
      "tags": []
     },
     "output_type": "execute_result"
    }
   ],
   "source": [
    "x = df.drop(['class'],axis = 1)\n",
    "x"
   ]
  },
  {
   "cell_type": "code",
   "execution_count": 190,
   "metadata": {
    "colab": {
     "base_uri": "https://localhost:8080/",
     "height": 218
    },
    "colab_type": "code",
    "id": "x3iZb4VT7wFM",
    "outputId": "8d6b5f37-5137-40d3-a93d-c71d156222ce"
   },
   "outputs": [
    {
     "data": {
      "text/plain": [
       "0      1\n",
       "1      1\n",
       "2      1\n",
       "3      1\n",
       "4      1\n",
       "      ..\n",
       "173    3\n",
       "174    3\n",
       "175    3\n",
       "176    3\n",
       "177    3\n",
       "Name: class, Length: 178, dtype: int64"
      ]
     },
     "execution_count": 190,
     "metadata": {
      "tags": []
     },
     "output_type": "execute_result"
    }
   ],
   "source": [
    "y = df['class']\n",
    "y"
   ]
  },
  {
   "cell_type": "code",
   "execution_count": 191,
   "metadata": {
    "colab": {
     "base_uri": "https://localhost:8080/",
     "height": 84
    },
    "colab_type": "code",
    "id": "lfX-eBMg70r7",
    "outputId": "64f142de-a185-457e-907b-bf88b3d7edcd"
   },
   "outputs": [
    {
     "data": {
      "text/plain": [
       "2    71\n",
       "1    59\n",
       "3    48\n",
       "Name: class, dtype: int64"
      ]
     },
     "execution_count": 191,
     "metadata": {
      "tags": []
     },
     "output_type": "execute_result"
    }
   ],
   "source": [
    "y.value_counts()"
   ]
  },
  {
   "cell_type": "code",
   "execution_count": 192,
   "metadata": {
    "colab": {},
    "colab_type": "code",
    "id": "oesPSPoq74F9"
   },
   "outputs": [],
   "source": [
    "from sklearn.model_selection import train_test_split"
   ]
  },
  {
   "cell_type": "code",
   "execution_count": 193,
   "metadata": {
    "colab": {},
    "colab_type": "code",
    "id": "Rh3roV_s8aF5"
   },
   "outputs": [],
   "source": [
    "x_train,x_test,y_train,y_test = train_test_split(x,y,test_size = 0.2,random_state =42\n",
    "                                                 )"
   ]
  },
  {
   "cell_type": "code",
   "execution_count": 194,
   "metadata": {
    "colab": {},
    "colab_type": "code",
    "id": "le6DgdGr8mPJ"
   },
   "outputs": [],
   "source": [
    "from sklearn.preprocessing import StandardScaler\n",
    "\n",
    "sc = StandardScaler()\n",
    "xtrain = sc.fit_transform(x_train)\n",
    "xtest = sc.fit_transform(x_test)"
   ]
  },
  {
   "cell_type": "code",
   "execution_count": 195,
   "metadata": {
    "colab": {},
    "colab_type": "code",
    "id": "Gn7TPKV687E1"
   },
   "outputs": [],
   "source": [
    "from sklearn.decomposition import PCA"
   ]
  },
  {
   "cell_type": "code",
   "execution_count": 196,
   "metadata": {
    "colab": {
     "base_uri": "https://localhost:8080/",
     "height": 50
    },
    "colab_type": "code",
    "id": "VB3drDc88_Ol",
    "outputId": "bae5bd41-ffed-4d56-844b-48b76622fc2f"
   },
   "outputs": [
    {
     "data": {
      "text/plain": [
       "PCA(copy=True, iterated_power='auto', n_components=2, random_state=None,\n",
       "    svd_solver='auto', tol=0.0, whiten=False)"
      ]
     },
     "execution_count": 196,
     "metadata": {
      "tags": []
     },
     "output_type": "execute_result"
    }
   ],
   "source": [
    "pca = PCA(n_components=2)\n",
    "pca.fit(xtrain)"
   ]
  },
  {
   "cell_type": "code",
   "execution_count": 197,
   "metadata": {
    "colab": {
     "base_uri": "https://localhost:8080/",
     "height": 34
    },
    "colab_type": "code",
    "id": "G14YirSW9GT3",
    "outputId": "0fb7806e-b6c3-41ec-b482-37d784985371"
   },
   "outputs": [
    {
     "data": {
      "text/plain": [
       "array([0.35900066, 0.18691934])"
      ]
     },
     "execution_count": 197,
     "metadata": {
      "tags": []
     },
     "output_type": "execute_result"
    }
   ],
   "source": [
    "pca.explained_variance_ratio_"
   ]
  },
  {
   "cell_type": "code",
   "execution_count": 198,
   "metadata": {
    "colab": {
     "base_uri": "https://localhost:8080/",
     "height": 118
    },
    "colab_type": "code",
    "id": "Cr_WklKN9aeb",
    "outputId": "b463297d-ae12-42dd-cc64-7ef10484746c"
   },
   "outputs": [
    {
     "data": {
      "text/plain": [
       "array([[ 0.12753249, -0.25623655, -0.02236181, -0.24428137,  0.14757757,\n",
       "         0.38490786,  0.41950095, -0.2992598 ,  0.30843734, -0.11907301,\n",
       "         0.29949964,  0.38381622,  0.27587548],\n",
       "       [-0.4928047 , -0.1904464 , -0.31676447,  0.03513857, -0.26217161,\n",
       "        -0.09601687, -0.01513129, -0.07626286, -0.0738558 , -0.53396728,\n",
       "         0.28133315,  0.14274046, -0.381054  ]])"
      ]
     },
     "execution_count": 198,
     "metadata": {
      "tags": []
     },
     "output_type": "execute_result"
    }
   ],
   "source": [
    "pca.components_"
   ]
  },
  {
   "cell_type": "code",
   "execution_count": 199,
   "metadata": {
    "colab": {
     "base_uri": "https://localhost:8080/",
     "height": 432
    },
    "colab_type": "code",
    "id": "Uqq3jXe79QT0",
    "outputId": "ac2db093-c7b0-4150-8703-b256207e3b26"
   },
   "outputs": [
    {
     "data": {
      "text/html": [
       "<div>\n",
       "<style scoped>\n",
       "    .dataframe tbody tr th:only-of-type {\n",
       "        vertical-align: middle;\n",
       "    }\n",
       "\n",
       "    .dataframe tbody tr th {\n",
       "        vertical-align: top;\n",
       "    }\n",
       "\n",
       "    .dataframe thead th {\n",
       "        text-align: right;\n",
       "    }\n",
       "</style>\n",
       "<table border=\"1\" class=\"dataframe\">\n",
       "  <thead>\n",
       "    <tr style=\"text-align: right;\">\n",
       "      <th></th>\n",
       "      <th>0</th>\n",
       "      <th>1</th>\n",
       "    </tr>\n",
       "  </thead>\n",
       "  <tbody>\n",
       "    <tr>\n",
       "      <th>Alcohol</th>\n",
       "      <td>0.128</td>\n",
       "      <td>-0.493</td>\n",
       "    </tr>\n",
       "    <tr>\n",
       "      <th>Malic acid</th>\n",
       "      <td>-0.256</td>\n",
       "      <td>-0.190</td>\n",
       "    </tr>\n",
       "    <tr>\n",
       "      <th>Ash</th>\n",
       "      <td>-0.022</td>\n",
       "      <td>-0.317</td>\n",
       "    </tr>\n",
       "    <tr>\n",
       "      <th>Alcalinity of ash</th>\n",
       "      <td>-0.244</td>\n",
       "      <td>0.035</td>\n",
       "    </tr>\n",
       "    <tr>\n",
       "      <th>Magnesium</th>\n",
       "      <td>0.148</td>\n",
       "      <td>-0.262</td>\n",
       "    </tr>\n",
       "    <tr>\n",
       "      <th>Total phenols</th>\n",
       "      <td>0.385</td>\n",
       "      <td>-0.096</td>\n",
       "    </tr>\n",
       "    <tr>\n",
       "      <th>Flavanoids</th>\n",
       "      <td>0.420</td>\n",
       "      <td>-0.015</td>\n",
       "    </tr>\n",
       "    <tr>\n",
       "      <th>Nonflavanoid phenols</th>\n",
       "      <td>-0.299</td>\n",
       "      <td>-0.076</td>\n",
       "    </tr>\n",
       "    <tr>\n",
       "      <th>Proanthocyanins</th>\n",
       "      <td>0.308</td>\n",
       "      <td>-0.074</td>\n",
       "    </tr>\n",
       "    <tr>\n",
       "      <th>Color intensity</th>\n",
       "      <td>-0.119</td>\n",
       "      <td>-0.534</td>\n",
       "    </tr>\n",
       "    <tr>\n",
       "      <th>Hue</th>\n",
       "      <td>0.299</td>\n",
       "      <td>0.281</td>\n",
       "    </tr>\n",
       "    <tr>\n",
       "      <th>OD280/OD315 of diluted wines</th>\n",
       "      <td>0.384</td>\n",
       "      <td>0.143</td>\n",
       "    </tr>\n",
       "    <tr>\n",
       "      <th>Proline</th>\n",
       "      <td>0.276</td>\n",
       "      <td>-0.381</td>\n",
       "    </tr>\n",
       "  </tbody>\n",
       "</table>\n",
       "</div>"
      ],
      "text/plain": [
       "                                  0      1\n",
       "Alcohol                       0.128 -0.493\n",
       "Malic acid                   -0.256 -0.190\n",
       "Ash                          -0.022 -0.317\n",
       "Alcalinity of ash            -0.244  0.035\n",
       "Magnesium                     0.148 -0.262\n",
       "Total phenols                 0.385 -0.096\n",
       "Flavanoids                    0.420 -0.015\n",
       "Nonflavanoid phenols         -0.299 -0.076\n",
       "Proanthocyanins               0.308 -0.074\n",
       "Color intensity              -0.119 -0.534\n",
       "Hue                           0.299  0.281\n",
       "OD280/OD315 of diluted wines  0.384  0.143\n",
       "Proline                       0.276 -0.381"
      ]
     },
     "execution_count": 199,
     "metadata": {
      "tags": []
     },
     "output_type": "execute_result"
    }
   ],
   "source": [
    "pd.DataFrame(np.round((pca.components_),3),columns = x.columns).T"
   ]
  },
  {
   "cell_type": "markdown",
   "metadata": {
    "colab_type": "text",
    "id": "6qeqhLYO-nkg"
   },
   "source": [
    "This shows the 2 pca components for each feature of data. There is no predefined no.of components.\n",
    "\n"
   ]
  },
  {
   "cell_type": "code",
   "execution_count": 200,
   "metadata": {
    "colab": {
     "base_uri": "https://localhost:8080/",
     "height": 50
    },
    "colab_type": "code",
    "id": "74hoBbpy9teS",
    "outputId": "1f57b991-b35f-43d5-c822-6a0f969d8fde"
   },
   "outputs": [
    {
     "data": {
      "text/plain": [
       "PCA(copy=True, iterated_power='auto', n_components=None, random_state=None,\n",
       "    svd_solver='auto', tol=0.0, whiten=False)"
      ]
     },
     "execution_count": 200,
     "metadata": {
      "tags": []
     },
     "output_type": "execute_result"
    }
   ],
   "source": [
    "pca = PCA(n_components=None)\n",
    "pca.fit(xtrain)"
   ]
  },
  {
   "cell_type": "code",
   "execution_count": 201,
   "metadata": {
    "colab": {
     "base_uri": "https://localhost:8080/",
     "height": 235
    },
    "colab_type": "code",
    "id": "Z3AH8Km8_CHt",
    "outputId": "1299a59c-0af7-4d84-887b-1e0f6d5b79fa"
   },
   "outputs": [
    {
     "data": {
      "text/plain": [
       "array([[ 314.18963966, -449.34323792, -133.83098472, ...,  524.07904714,\n",
       "        -106.24268019,   41.86172515],\n",
       "       [ 306.46326054, -435.42083616, -136.26420608, ...,  513.80621096,\n",
       "        -106.61231203,   39.22057027],\n",
       "       [ 342.35074777, -487.99423471, -150.54522266, ...,  582.43759177,\n",
       "        -120.96221724,   44.38902001],\n",
       "       ...,\n",
       "       [ 244.47491151, -362.36184242, -100.20358704, ...,  416.24112487,\n",
       "         -79.78105132,   34.32893349],\n",
       "       [ 246.42820687, -363.46023345, -100.90290814, ...,  418.32989482,\n",
       "         -81.04282813,   34.38175963],\n",
       "       [ 164.42102892, -251.17316529,  -59.42820025, ...,  284.96422091,\n",
       "         -52.67860639,   25.10478557]])"
      ]
     },
     "execution_count": 201,
     "metadata": {
      "tags": []
     },
     "output_type": "execute_result"
    }
   ],
   "source": [
    "pca.transform(x)"
   ]
  },
  {
   "cell_type": "code",
   "execution_count": 202,
   "metadata": {
    "colab": {
     "base_uri": "https://localhost:8080/",
     "height": 672
    },
    "colab_type": "code",
    "id": "3YuAyo38_Jmy",
    "outputId": "dd81bcc4-f844-4ea9-e219-6adc071950e8"
   },
   "outputs": [
    {
     "data": {
      "text/plain": [
       "array([[ 0.12753249, -0.25623655, -0.02236181, -0.24428137,  0.14757757,\n",
       "         0.38490786,  0.41950095, -0.2992598 ,  0.30843734, -0.11907301,\n",
       "         0.29949964,  0.38381622,  0.27587548],\n",
       "       [-0.4928047 , -0.1904464 , -0.31676447,  0.03513857, -0.26217161,\n",
       "        -0.09601687, -0.01513129, -0.07626286, -0.0738558 , -0.53396728,\n",
       "         0.28133315,  0.14274046, -0.381054  ],\n",
       "       [-0.18514872,  0.1424076 ,  0.60965837,  0.59527663,  0.0663528 ,\n",
       "         0.17680473,  0.18174944,  0.20274722,  0.15058799, -0.12401015,\n",
       "         0.07300682,  0.21392593, -0.1430069 ],\n",
       "       [ 0.07944523,  0.42367499, -0.20690471, -0.05357487, -0.65044937,\n",
       "         0.24598834,  0.17997707,  0.04552367,  0.33127069,  0.1171025 ,\n",
       "        -0.2808828 ,  0.15401634, -0.15614063],\n",
       "       [-0.30961279,  0.21129631, -0.19918583,  0.09357804,  0.51387197,\n",
       "        -0.01130865, -0.03174679, -0.45930325,  0.37662645,  0.05827632,\n",
       "        -0.36517145, -0.0507927 , -0.23179436],\n",
       "       [-0.18584154, -0.65625704, -0.1203547 ,  0.12713929, -0.08080565,\n",
       "         0.0870085 ,  0.01188917,  0.32221506,  0.41621801,  0.39168194,\n",
       "        -0.05929288, -0.21233511, -0.10402892],\n",
       "       [-0.04222986,  0.36099013, -0.17962804, -0.25497996,  0.31364681,\n",
       "        -0.08269981, -0.08565324,  0.61541531,  0.39359649, -0.18140525,\n",
       "         0.29311321, -0.03186309,  0.06766848],\n",
       "       [ 0.49171711,  0.019394  , -0.10517399,  0.39368332, -0.12146902,\n",
       "        -0.37648885, -0.17485569, -0.28482455,  0.3713872 ,  0.0111551 ,\n",
       "         0.41610549, -0.07038436, -0.08626289],\n",
       "       [-0.41812093,  0.01679189,  0.2252104 , -0.05667435, -0.27856493,\n",
       "        -0.4110692 , -0.08544981, -0.14267151,  0.2767889 , -0.06711141,\n",
       "        -0.0957134 ,  0.0018912 ,  0.63753228],\n",
       "       [ 0.29203308, -0.25007833, -0.17343564,  0.15688071,  0.1088496 ,\n",
       "        -0.2327011 , -0.12254974,  0.2311034 ,  0.0374811 , -0.29329513,\n",
       "        -0.51318511,  0.55301517,  0.08030675],\n",
       "       [-0.13332605,  0.12972214, -0.51680128,  0.53787319,  0.0402122 ,\n",
       "         0.33279382, -0.08099312,  0.04772358, -0.20307806,  0.06597397,\n",
       "         0.09935059, -0.02035265,  0.48158176],\n",
       "       [-0.21695036,  0.10703344, -0.08608302, -0.03865422,  0.05646484,\n",
       "        -0.30713308,  0.038332  ,  0.02880055, -0.16447577,  0.62071628,\n",
       "         0.24812937,  0.58928337, -0.10765725],\n",
       "       [ 0.03700592,  0.03432219, -0.17856593,  0.13534963,  0.06344194,\n",
       "        -0.40787853,  0.83003365,  0.09967301, -0.11293025, -0.03998299,\n",
       "        -0.08392127, -0.23598973,  0.02968309]])"
      ]
     },
     "execution_count": 202,
     "metadata": {
      "tags": []
     },
     "output_type": "execute_result"
    }
   ],
   "source": [
    "pca.components_"
   ]
  },
  {
   "cell_type": "code",
   "execution_count": 203,
   "metadata": {
    "colab": {
     "base_uri": "https://localhost:8080/",
     "height": 50
    },
    "colab_type": "code",
    "id": "vyILtGr3_MRu",
    "outputId": "2e8f6738-7dc3-458a-ac50-20e685865b8a"
   },
   "outputs": [
    {
     "data": {
      "text/plain": [
       "array([0.359, 0.187, 0.116, 0.074, 0.067, 0.049, 0.042, 0.027, 0.023,\n",
       "       0.019, 0.017, 0.013, 0.008])"
      ]
     },
     "execution_count": 203,
     "metadata": {
      "tags": []
     },
     "output_type": "execute_result"
    }
   ],
   "source": [
    "np.round(pca.explained_variance_ratio_,3)"
   ]
  },
  {
   "cell_type": "code",
   "execution_count": 204,
   "metadata": {
    "colab": {
     "base_uri": "https://localhost:8080/",
     "height": 302
    },
    "colab_type": "code",
    "id": "C5su4TXE_a_t",
    "outputId": "55b2a489-5982-42de-f75a-af61afd055f8"
   },
   "outputs": [
    {
     "data": {
      "text/plain": [
       "Text(0, 0.5, 'cumulative explained variance')"
      ]
     },
     "execution_count": 204,
     "metadata": {
      "tags": []
     },
     "output_type": "execute_result"
    },
    {
     "data": {
      "image/png": "[encoded data removed]",
      "text/plain": [
       "<Figure size 432x288 with 1 Axes>"
      ]
     },
     "metadata": {
      "tags": []
     },
     "output_type": "display_data"
    }
   ],
   "source": [
    "plt.plot(np.cumsum(pca.explained_variance_ratio_,)*100)\n",
    "plt.xlabel('no. of components')\n",
    "plt.ylabel('cumulative explained variance')"
   ]
  },
  {
   "cell_type": "code",
   "execution_count": 205,
   "metadata": {
    "colab": {},
    "colab_type": "code",
    "id": "0CBY_O-4_-Ou"
   },
   "outputs": [],
   "source": [
    "res = pca.transform(xtrain)\n",
    "index = ['PCA_'+str(k) for k in range(0,len(res))]"
   ]
  },
  {
   "cell_type": "code",
   "execution_count": 206,
   "metadata": {
    "colab": {
     "base_uri": "https://localhost:8080/",
     "height": 432
    },
    "colab_type": "code",
    "id": "jghkNEaWAuWy",
    "outputId": "0902f0bf-6ada-49ae-f047-3b85520940da"
   },
   "outputs": [
    {
     "data": {
      "text/html": [
       "<div>\n",
       "<style scoped>\n",
       "    .dataframe tbody tr th:only-of-type {\n",
       "        vertical-align: middle;\n",
       "    }\n",
       "\n",
       "    .dataframe tbody tr th {\n",
       "        vertical-align: top;\n",
       "    }\n",
       "\n",
       "    .dataframe thead th {\n",
       "        text-align: right;\n",
       "    }\n",
       "</style>\n",
       "<table border=\"1\" class=\"dataframe\">\n",
       "  <thead>\n",
       "    <tr style=\"text-align: right;\">\n",
       "      <th></th>\n",
       "      <th>PCA_0</th>\n",
       "      <th>PCA_1</th>\n",
       "      <th>PCA_2</th>\n",
       "      <th>PCA_3</th>\n",
       "    </tr>\n",
       "  </thead>\n",
       "  <tbody>\n",
       "    <tr>\n",
       "      <th>Malic acid</th>\n",
       "      <td>-3.615327</td>\n",
       "      <td>-0.482177</td>\n",
       "      <td>1.275033</td>\n",
       "      <td>-2.496962</td>\n",
       "    </tr>\n",
       "    <tr>\n",
       "      <th>Alcohol</th>\n",
       "      <td>-1.166027</td>\n",
       "      <td>-3.862612</td>\n",
       "      <td>2.283538</td>\n",
       "      <td>-1.678507</td>\n",
       "    </tr>\n",
       "    <tr>\n",
       "      <th>Proline</th>\n",
       "      <td>-0.755592</td>\n",
       "      <td>-0.122403</td>\n",
       "      <td>0.415850</td>\n",
       "      <td>-0.791136</td>\n",
       "    </tr>\n",
       "    <tr>\n",
       "      <th>Proanthocyanins</th>\n",
       "      <td>-0.639966</td>\n",
       "      <td>-0.005981</td>\n",
       "      <td>-0.481336</td>\n",
       "      <td>-0.121445</td>\n",
       "    </tr>\n",
       "    <tr>\n",
       "      <th>Flavanoids</th>\n",
       "      <td>-0.553745</td>\n",
       "      <td>1.257686</td>\n",
       "      <td>-0.979052</td>\n",
       "      <td>-0.666927</td>\n",
       "    </tr>\n",
       "    <tr>\n",
       "      <th>Hue</th>\n",
       "      <td>-0.112150</td>\n",
       "      <td>0.504570</td>\n",
       "      <td>0.480180</td>\n",
       "      <td>-0.319599</td>\n",
       "    </tr>\n",
       "    <tr>\n",
       "      <th>OD280/OD315 of diluted wines</th>\n",
       "      <td>0.071476</td>\n",
       "      <td>-0.182884</td>\n",
       "      <td>-0.458933</td>\n",
       "      <td>0.045823</td>\n",
       "    </tr>\n",
       "    <tr>\n",
       "      <th>Magnesium</th>\n",
       "      <td>0.221634</td>\n",
       "      <td>-0.226540</td>\n",
       "      <td>0.215798</td>\n",
       "      <td>-0.003420</td>\n",
       "    </tr>\n",
       "    <tr>\n",
       "      <th>Color intensity</th>\n",
       "      <td>0.262397</td>\n",
       "      <td>-0.453600</td>\n",
       "      <td>-0.777822</td>\n",
       "      <td>-0.123055</td>\n",
       "    </tr>\n",
       "    <tr>\n",
       "      <th>Nonflavanoid phenols</th>\n",
       "      <td>0.918085</td>\n",
       "      <td>-0.113136</td>\n",
       "      <td>-0.678263</td>\n",
       "      <td>0.150849</td>\n",
       "    </tr>\n",
       "    <tr>\n",
       "      <th>Ash</th>\n",
       "      <td>1.151285</td>\n",
       "      <td>1.727584</td>\n",
       "      <td>-0.131677</td>\n",
       "      <td>0.556619</td>\n",
       "    </tr>\n",
       "    <tr>\n",
       "      <th>Alcalinity of ash</th>\n",
       "      <td>1.167179</td>\n",
       "      <td>0.467086</td>\n",
       "      <td>1.107830</td>\n",
       "      <td>1.131270</td>\n",
       "    </tr>\n",
       "    <tr>\n",
       "      <th>Total phenols</th>\n",
       "      <td>3.062380</td>\n",
       "      <td>-1.016510</td>\n",
       "      <td>1.004315</td>\n",
       "      <td>2.754779</td>\n",
       "    </tr>\n",
       "  </tbody>\n",
       "</table>\n",
       "</div>"
      ],
      "text/plain": [
       "                                 PCA_0     PCA_1     PCA_2     PCA_3\n",
       "Malic acid                   -3.615327 -0.482177  1.275033 -2.496962\n",
       "Alcohol                      -1.166027 -3.862612  2.283538 -1.678507\n",
       "Proline                      -0.755592 -0.122403  0.415850 -0.791136\n",
       "Proanthocyanins              -0.639966 -0.005981 -0.481336 -0.121445\n",
       "Flavanoids                   -0.553745  1.257686 -0.979052 -0.666927\n",
       "Hue                          -0.112150  0.504570  0.480180 -0.319599\n",
       "OD280/OD315 of diluted wines  0.071476 -0.182884 -0.458933  0.045823\n",
       "Magnesium                     0.221634 -0.226540  0.215798 -0.003420\n",
       "Color intensity               0.262397 -0.453600 -0.777822 -0.123055\n",
       "Nonflavanoid phenols          0.918085 -0.113136 -0.678263  0.150849\n",
       "Ash                           1.151285  1.727584 -0.131677  0.556619\n",
       "Alcalinity of ash             1.167179  0.467086  1.107830  1.131270\n",
       "Total phenols                 3.062380 -1.016510  1.004315  2.754779"
      ]
     },
     "execution_count": 206,
     "metadata": {
      "tags": []
     },
     "output_type": "execute_result"
    }
   ],
   "source": [
    "df1 = pd.DataFrame(res,columns=df.columns[1:],index=index)[0:4]\n",
    "df1.T.sort_values(by = 'PCA_0')"
   ]
  },
  {
   "cell_type": "markdown",
   "metadata": {
    "colab_type": "text",
    "id": "Gkkrq2rZB2_A"
   },
   "source": [
    "# **Kernel PCA:** \n",
    "Non-linear Dimensionality reduction through the use of kernels."
   ]
  },
  {
   "cell_type": "code",
   "execution_count": 207,
   "metadata": {
    "colab": {},
    "colab_type": "code",
    "id": "QqTh1cwuBRGW"
   },
   "outputs": [],
   "source": [
    "from sklearn.datasets import make_circles\n",
    "from sklearn.decomposition import PCA,KernelPCA"
   ]
  },
  {
   "cell_type": "code",
   "execution_count": 208,
   "metadata": {
    "colab": {},
    "colab_type": "code",
    "id": "Kj8Rq2S9CnjQ"
   },
   "outputs": [],
   "source": [
    "np.random.seed(0)\n",
    "x,y = make_circles(n_samples=400,noise=0.05,factor=0.3)"
   ]
  },
  {
   "cell_type": "code",
   "execution_count": 209,
   "metadata": {
    "colab": {},
    "colab_type": "code",
    "id": "zPJiyjuzC3kA"
   },
   "outputs": [],
   "source": [
    "# kernel pca\n",
    "kpca = KernelPCA(kernel='rbf',fit_inverse_transform=True,gamma=10)\n",
    "x_kpca = kpca.fit_transform(x)\n",
    "x_back = kpca.inverse_transform(x_kpca)"
   ]
  },
  {
   "cell_type": "code",
   "execution_count": 210,
   "metadata": {
    "colab": {},
    "colab_type": "code",
    "id": "hH3dy-X5DnPc"
   },
   "outputs": [],
   "source": [
    "# linear pca\n",
    "pca = PCA()\n",
    "x_pca = pca.fit_transform(x)"
   ]
  },
  {
   "cell_type": "code",
   "execution_count": 210,
   "metadata": {
    "colab": {},
    "colab_type": "code",
    "id": "WgCUGv3BI0M4"
   },
   "outputs": [],
   "source": []
  },
  {
   "cell_type": "code",
   "execution_count": 211,
   "metadata": {
    "colab": {
     "base_uri": "https://localhost:8080/",
     "height": 376
    },
    "colab_type": "code",
    "id": "0IQ9wbKBDvWE",
    "outputId": "a4b87f9f-74f1-43fe-afac-626fe2836d51"
   },
   "outputs": [
    {
     "data": {
      "text/plain": [
       "Text(0, 0.5, '2nd PCA component')"
      ]
     },
     "execution_count": 211,
     "metadata": {
      "tags": []
     },
     "output_type": "execute_result"
    },
    {
     "data": {
      "image/png": "[encoded data removed]",
      "text/plain": [
       "<Figure size 1224x360 with 3 Axes>"
      ]
     },
     "metadata": {
      "tags": []
     },
     "output_type": "display_data"
    }
   ],
   "source": [
    "plt.figure(figsize=(17,5))\n",
    "reds = y==0\n",
    "blues = y==1\n",
    "\n",
    "plt.subplot(1,3,1)\n",
    "plt.title('Original Space (without pca)')\n",
    "plt.scatter(x[reds,0],x[reds,1],c=\"red\",s = 20,edgecolors = 'k')\n",
    "plt.scatter(x[blues,0],x[blues,1],c=\"blue\",s = 20,edgecolors = 'k')\n",
    "plt.xlabel(\"$x_{1}$\")\n",
    "plt.ylabel(\"$x_{2}$\")\n",
    "\n",
    "plt.subplot(1,3,2)\n",
    "plt.title('Projection by PCA')\n",
    "plt.scatter(x_pca[reds,0],x_pca[reds,1],c=\"red\",s = 20,edgecolors = 'k')\n",
    "plt.scatter(x_pca[blues,0],x_pca[blues,1],c=\"blue\",s = 20,edgecolors = 'k')\n",
    "plt.xlabel(\"1st PCA component\")\n",
    "plt.ylabel(\"2nd PCA component\")\n",
    "\n",
    "plt.subplot(1,3,3)\n",
    "plt.title('Projection by KPCA')\n",
    "plt.scatter(x_kpca[reds,0],x_kpca[reds,1],c=\"red\",s = 20,edgecolors = 'k')\n",
    "plt.scatter(x_kpca[blues,0],x_kpca[blues,1],c=\"blue\",s = 20,edgecolors = 'k')\n",
    "plt.xlabel(\"1st PCA component in space induced by $\\phi$\")\n",
    "plt.ylabel(\"2nd PCA component\")"
   ]
  },
  {
   "cell_type": "markdown",
   "metadata": {
    "colab_type": "text",
    "id": "QrSgT2SyIBgt"
   },
   "source": [
    "There is no much difference b/w original data and linear pca projection but huge difference b/w original data and kernel pca plot as kpca projects the data in that space where it can easily classified."
   ]
  },
  {
   "cell_type": "markdown",
   "metadata": {
    "colab_type": "text",
    "id": "uppVxIhtJOwJ"
   },
   "source": [
    "##**KPCA Example:**\n",
    "\n",
    "using iris dataset"
   ]
  },
  {
   "cell_type": "code",
   "execution_count": 212,
   "metadata": {
    "colab": {},
    "colab_type": "code",
    "id": "9fZBiaMLEx4e"
   },
   "outputs": [],
   "source": [
    "df = sns.load_dataset('iris')\n",
    "df = df[df['species'] != 'setosa']"
   ]
  },
  {
   "cell_type": "code",
   "execution_count": 213,
   "metadata": {
    "colab": {
     "base_uri": "https://localhost:8080/",
     "height": 67
    },
    "colab_type": "code",
    "id": "d2s623GfJmJd",
    "outputId": "df7b7d50-9e2e-4d0c-af31-75b58f783fcc"
   },
   "outputs": [
    {
     "data": {
      "text/plain": [
       "Index(['sepal_length', 'sepal_width', 'petal_length', 'petal_width',\n",
       "       'species'],\n",
       "      dtype='object')"
      ]
     },
     "execution_count": 213,
     "metadata": {
      "tags": []
     },
     "output_type": "execute_result"
    }
   ],
   "source": [
    "df.keys()\n"
   ]
  },
  {
   "cell_type": "code",
   "execution_count": 214,
   "metadata": {
    "colab": {
     "base_uri": "https://localhost:8080/",
     "height": 402
    },
    "colab_type": "code",
    "id": "rLLrv6cwJq82",
    "outputId": "bc02afe7-8eff-44b0-b693-74719d21c35f"
   },
   "outputs": [
    {
     "data": {
      "text/html": [
       "<div>\n",
       "<style scoped>\n",
       "    .dataframe tbody tr th:only-of-type {\n",
       "        vertical-align: middle;\n",
       "    }\n",
       "\n",
       "    .dataframe tbody tr th {\n",
       "        vertical-align: top;\n",
       "    }\n",
       "\n",
       "    .dataframe thead th {\n",
       "        text-align: right;\n",
       "    }\n",
       "</style>\n",
       "<table border=\"1\" class=\"dataframe\">\n",
       "  <thead>\n",
       "    <tr style=\"text-align: right;\">\n",
       "      <th></th>\n",
       "      <th>petal_length</th>\n",
       "      <th>petal_width</th>\n",
       "    </tr>\n",
       "  </thead>\n",
       "  <tbody>\n",
       "    <tr>\n",
       "      <th>50</th>\n",
       "      <td>4.7</td>\n",
       "      <td>1.4</td>\n",
       "    </tr>\n",
       "    <tr>\n",
       "      <th>51</th>\n",
       "      <td>4.5</td>\n",
       "      <td>1.5</td>\n",
       "    </tr>\n",
       "    <tr>\n",
       "      <th>52</th>\n",
       "      <td>4.9</td>\n",
       "      <td>1.5</td>\n",
       "    </tr>\n",
       "    <tr>\n",
       "      <th>53</th>\n",
       "      <td>4.0</td>\n",
       "      <td>1.3</td>\n",
       "    </tr>\n",
       "    <tr>\n",
       "      <th>54</th>\n",
       "      <td>4.6</td>\n",
       "      <td>1.5</td>\n",
       "    </tr>\n",
       "    <tr>\n",
       "      <th>...</th>\n",
       "      <td>...</td>\n",
       "      <td>...</td>\n",
       "    </tr>\n",
       "    <tr>\n",
       "      <th>145</th>\n",
       "      <td>5.2</td>\n",
       "      <td>2.3</td>\n",
       "    </tr>\n",
       "    <tr>\n",
       "      <th>146</th>\n",
       "      <td>5.0</td>\n",
       "      <td>1.9</td>\n",
       "    </tr>\n",
       "    <tr>\n",
       "      <th>147</th>\n",
       "      <td>5.2</td>\n",
       "      <td>2.0</td>\n",
       "    </tr>\n",
       "    <tr>\n",
       "      <th>148</th>\n",
       "      <td>5.4</td>\n",
       "      <td>2.3</td>\n",
       "    </tr>\n",
       "    <tr>\n",
       "      <th>149</th>\n",
       "      <td>5.1</td>\n",
       "      <td>1.8</td>\n",
       "    </tr>\n",
       "  </tbody>\n",
       "</table>\n",
       "<p>100 rows × 2 columns</p>\n",
       "</div>"
      ],
      "text/plain": [
       "     petal_length  petal_width\n",
       "50            4.7          1.4\n",
       "51            4.5          1.5\n",
       "52            4.9          1.5\n",
       "53            4.0          1.3\n",
       "54            4.6          1.5\n",
       "..            ...          ...\n",
       "145           5.2          2.3\n",
       "146           5.0          1.9\n",
       "147           5.2          2.0\n",
       "148           5.4          2.3\n",
       "149           5.1          1.8\n",
       "\n",
       "[100 rows x 2 columns]"
      ]
     },
     "execution_count": 214,
     "metadata": {
      "tags": []
     },
     "output_type": "execute_result"
    }
   ],
   "source": [
    "\n",
    "col = ['petal_length', 'petal_width']\n",
    "x = df.loc[:,col]\n",
    "x"
   ]
  },
  {
   "cell_type": "code",
   "execution_count": 215,
   "metadata": {
    "colab": {
     "base_uri": "https://localhost:8080/",
     "height": 67
    },
    "colab_type": "code",
    "id": "xf3nmmw0KDFI",
    "outputId": "4f600a1b-1ebd-4520-966b-fad312219369"
   },
   "outputs": [
    {
     "data": {
      "text/plain": [
       "1    50\n",
       "0    50\n",
       "Name: species, dtype: int64"
      ]
     },
     "execution_count": 215,
     "metadata": {
      "tags": []
     },
     "output_type": "execute_result"
    }
   ],
   "source": [
    "y = df['species'].map({'versicolor':0,'virginica':1})\n",
    "y.value_counts()"
   ]
  },
  {
   "cell_type": "code",
   "execution_count": 216,
   "metadata": {
    "colab": {},
    "colab_type": "code",
    "id": "IHV-mSj8KVHd"
   },
   "outputs": [],
   "source": [
    "kpca = KernelPCA(kernel='rbf',n_components=2)\n",
    "x_kpca = kpca.fit_transform(x)"
   ]
  },
  {
   "cell_type": "code",
   "execution_count": 217,
   "metadata": {
    "colab": {},
    "colab_type": "code",
    "id": "UoXQ48pLKrO3"
   },
   "outputs": [],
   "source": [
    "from sklearn.linear_model import LogisticRegression\n"
   ]
  },
  {
   "cell_type": "code",
   "execution_count": 218,
   "metadata": {
    "colab": {
     "base_uri": "https://localhost:8080/",
     "height": 101
    },
    "colab_type": "code",
    "id": "br8BXwXeK0wF",
    "outputId": "aadb204e-26be-41b3-c4c5-d57cc3f62607"
   },
   "outputs": [
    {
     "data": {
      "text/plain": [
       "LogisticRegression(C=1.0, class_weight=None, dual=False, fit_intercept=True,\n",
       "                   intercept_scaling=1, l1_ratio=None, max_iter=100,\n",
       "                   multi_class='auto', n_jobs=None, penalty='l2',\n",
       "                   random_state=None, solver='lbfgs', tol=0.0001, verbose=0,\n",
       "                   warm_start=False)"
      ]
     },
     "execution_count": 218,
     "metadata": {
      "tags": []
     },
     "output_type": "execute_result"
    }
   ],
   "source": [
    "model = LogisticRegression(solver = 'lbfgs')\n",
    "model.fit(x,y)"
   ]
  },
  {
   "cell_type": "code",
   "execution_count": 219,
   "metadata": {
    "colab": {
     "base_uri": "https://localhost:8080/",
     "height": 426
    },
    "colab_type": "code",
    "id": "HaAZ2GUdLAG-",
    "outputId": "a7c79e3a-ce85-4eff-9c09-4696017cb4c7"
   },
   "outputs": [
    {
     "data": {
      "text/plain": [
       "Text(0.5, 1.0, 'without PCA projection')"
      ]
     },
     "execution_count": 219,
     "metadata": {
      "tags": []
     },
     "output_type": "execute_result"
    },
    {
     "data": {
      "text/plain": [
       "<Figure size 576x576 with 0 Axes>"
      ]
     },
     "metadata": {
      "tags": []
     },
     "output_type": "display_data"
    },
    {
     "data": {
      "image/png": "[encoded data removed]",
      "text/plain": [
       "<Figure size 576x432 with 1 Axes>"
      ]
     },
     "metadata": {
      "tags": []
     },
     "output_type": "display_data"
    }
   ],
   "source": [
    "\n",
    "plt.figure(figsize = (8,8))\n",
    "xv = x.values.reshape(-1,1)\n",
    "h = 0.02\n",
    "xmin,xmax = xv.min(),xv.max() + 1\n",
    "ymin, ymax = y.min(), y.max() + 2\n",
    "xx,yy = np.meshgrid(np.arange(xmin,xmax,h),np.arange(ymin,ymax,h))\n",
    "\n",
    "z = model.predict(np.c_[xx.ravel(),yy.ravel()])\n",
    "z = z.reshape(xx.shape)\n",
    "fig = plt.figure(figsize = (8,6))\n",
    "ax = plt.contourf(xx,yy,z,cmap = 'afmhot',alpha = 0.3)\n",
    "plt.scatter(x.values[:,0],x.values[:,1],c=y,s = 80, alpha = 0.9,edgecolors='k')\n",
    "plt.title('without PCA projection')\n",
    "\n"
   ]
  },
  {
   "cell_type": "code",
   "execution_count": 220,
   "metadata": {
    "colab": {
     "base_uri": "https://localhost:8080/",
     "height": 101
    },
    "colab_type": "code",
    "id": "BigfRSOGMPZI",
    "outputId": "ee2b0717-7a51-434d-94d7-3b36509d3809"
   },
   "outputs": [
    {
     "data": {
      "text/plain": [
       "LogisticRegression(C=1.0, class_weight=None, dual=False, fit_intercept=True,\n",
       "                   intercept_scaling=1, l1_ratio=None, max_iter=100,\n",
       "                   multi_class='auto', n_jobs=None, penalty='l2',\n",
       "                   random_state=None, solver='lbfgs', tol=0.0001, verbose=0,\n",
       "                   warm_start=False)"
      ]
     },
     "execution_count": 220,
     "metadata": {
      "tags": []
     },
     "output_type": "execute_result"
    }
   ],
   "source": [
    "model.fit(x_kpca,y)"
   ]
  },
  {
   "cell_type": "code",
   "execution_count": 221,
   "metadata": {
    "colab": {
     "base_uri": "https://localhost:8080/",
     "height": 410
    },
    "colab_type": "code",
    "id": "1lTQ5QCuM3th",
    "outputId": "a01c1b3a-cfa6-4e22-c2e3-fa134c540705"
   },
   "outputs": [
    {
     "data": {
      "text/plain": [
       "Text(0.5, 1.0, 'with PCA projection')"
      ]
     },
     "execution_count": 221,
     "metadata": {
      "tags": []
     },
     "output_type": "execute_result"
    },
    {
     "data": {
      "image/png": "[encoded data removed]",
      "text/plain": [
       "<Figure size 576x432 with 1 Axes>"
      ]
     },
     "metadata": {
      "tags": []
     },
     "output_type": "display_data"
    }
   ],
   "source": [
    "xv = x_kpca\n",
    "h = 0.02\n",
    "xmin,xmax = xv.min() - 0.5,xv.max() + 0.5\n",
    "ymin, ymax = y.min()-0.5, y.max()\n",
    "xx,yy = np.meshgrid(np.arange(xmin,xmax,h),np.arange(ymin,ymax,h))\n",
    "\n",
    "z = model.predict(np.c_[xx.ravel(),yy.ravel()])\n",
    "z = z.reshape(xx.shape)\n",
    "fig = plt.figure(figsize = (8,6))\n",
    "ax = plt.contourf(xx,yy,z,cmap = 'afmhot',alpha = 0.3)\n",
    "plt.scatter(x_kpca[:,0],x_kpca[:,1],c=y,s = 80, alpha = 0.9,edgecolors='k')\n",
    "plt.title('with PCA projection')\n"
   ]
  },
  {
   "cell_type": "markdown",
   "metadata": {
    "colab_type": "text",
    "id": "0LRGv6BHP8WB"
   },
   "source": [
    "# **LDA:** \n",
    "suprvised dimensionality reduction technique.\n",
    "\n",
    "project data into linear subspace consisting of the direction which maximize the saperation b/w classes. \n",
    "\n",
    "mostly used in multiclass."
   ]
  },
  {
   "cell_type": "code",
   "execution_count": 222,
   "metadata": {
    "colab": {
     "base_uri": "https://localhost:8080/",
     "height": 402
    },
    "colab_type": "code",
    "id": "CjnRXWJuOVb-",
    "outputId": "43a8004b-86cb-48fc-af81-649b2e3f28be"
   },
   "outputs": [
    {
     "data": {
      "text/html": [
       "<div>\n",
       "<style scoped>\n",
       "    .dataframe tbody tr th:only-of-type {\n",
       "        vertical-align: middle;\n",
       "    }\n",
       "\n",
       "    .dataframe tbody tr th {\n",
       "        vertical-align: top;\n",
       "    }\n",
       "\n",
       "    .dataframe thead th {\n",
       "        text-align: right;\n",
       "    }\n",
       "</style>\n",
       "<table border=\"1\" class=\"dataframe\">\n",
       "  <thead>\n",
       "    <tr style=\"text-align: right;\">\n",
       "      <th></th>\n",
       "      <th>petal_length</th>\n",
       "      <th>petal_width</th>\n",
       "    </tr>\n",
       "  </thead>\n",
       "  <tbody>\n",
       "    <tr>\n",
       "      <th>50</th>\n",
       "      <td>4.7</td>\n",
       "      <td>1.4</td>\n",
       "    </tr>\n",
       "    <tr>\n",
       "      <th>51</th>\n",
       "      <td>4.5</td>\n",
       "      <td>1.5</td>\n",
       "    </tr>\n",
       "    <tr>\n",
       "      <th>52</th>\n",
       "      <td>4.9</td>\n",
       "      <td>1.5</td>\n",
       "    </tr>\n",
       "    <tr>\n",
       "      <th>53</th>\n",
       "      <td>4.0</td>\n",
       "      <td>1.3</td>\n",
       "    </tr>\n",
       "    <tr>\n",
       "      <th>54</th>\n",
       "      <td>4.6</td>\n",
       "      <td>1.5</td>\n",
       "    </tr>\n",
       "    <tr>\n",
       "      <th>...</th>\n",
       "      <td>...</td>\n",
       "      <td>...</td>\n",
       "    </tr>\n",
       "    <tr>\n",
       "      <th>145</th>\n",
       "      <td>5.2</td>\n",
       "      <td>2.3</td>\n",
       "    </tr>\n",
       "    <tr>\n",
       "      <th>146</th>\n",
       "      <td>5.0</td>\n",
       "      <td>1.9</td>\n",
       "    </tr>\n",
       "    <tr>\n",
       "      <th>147</th>\n",
       "      <td>5.2</td>\n",
       "      <td>2.0</td>\n",
       "    </tr>\n",
       "    <tr>\n",
       "      <th>148</th>\n",
       "      <td>5.4</td>\n",
       "      <td>2.3</td>\n",
       "    </tr>\n",
       "    <tr>\n",
       "      <th>149</th>\n",
       "      <td>5.1</td>\n",
       "      <td>1.8</td>\n",
       "    </tr>\n",
       "  </tbody>\n",
       "</table>\n",
       "<p>100 rows × 2 columns</p>\n",
       "</div>"
      ],
      "text/plain": [
       "     petal_length  petal_width\n",
       "50            4.7          1.4\n",
       "51            4.5          1.5\n",
       "52            4.9          1.5\n",
       "53            4.0          1.3\n",
       "54            4.6          1.5\n",
       "..            ...          ...\n",
       "145           5.2          2.3\n",
       "146           5.0          1.9\n",
       "147           5.2          2.0\n",
       "148           5.4          2.3\n",
       "149           5.1          1.8\n",
       "\n",
       "[100 rows x 2 columns]"
      ]
     },
     "execution_count": 222,
     "metadata": {
      "tags": []
     },
     "output_type": "execute_result"
    }
   ],
   "source": [
    "x"
   ]
  },
  {
   "cell_type": "code",
   "execution_count": 223,
   "metadata": {
    "colab": {
     "base_uri": "https://localhost:8080/",
     "height": 218
    },
    "colab_type": "code",
    "id": "r8ghr0ZzQrVp",
    "outputId": "0e4d07fb-80b1-48da-a2eb-d74d7bec4d11"
   },
   "outputs": [
    {
     "data": {
      "text/plain": [
       "50     0\n",
       "51     0\n",
       "52     0\n",
       "53     0\n",
       "54     0\n",
       "      ..\n",
       "145    1\n",
       "146    1\n",
       "147    1\n",
       "148    1\n",
       "149    1\n",
       "Name: species, Length: 100, dtype: int64"
      ]
     },
     "execution_count": 223,
     "metadata": {
      "tags": []
     },
     "output_type": "execute_result"
    }
   ],
   "source": [
    "y"
   ]
  },
  {
   "cell_type": "code",
   "execution_count": 224,
   "metadata": {
    "colab": {},
    "colab_type": "code",
    "id": "ELEc3jBMQwwf"
   },
   "outputs": [],
   "source": [
    "from sklearn.discriminant_analysis import LinearDiscriminantAnalysis"
   ]
  },
  {
   "cell_type": "code",
   "execution_count": 225,
   "metadata": {
    "colab": {
     "base_uri": "https://localhost:8080/",
     "height": 50
    },
    "colab_type": "code",
    "id": "9mwSyEaWQ5fW",
    "outputId": "72e88656-67e4-4306-a034-0aec06f25f23"
   },
   "outputs": [
    {
     "data": {
      "text/plain": [
       "LinearDiscriminantAnalysis(n_components=None, priors=None, shrinkage=None,\n",
       "                           solver='svd', store_covariance=False, tol=0.0001)"
      ]
     },
     "execution_count": 225,
     "metadata": {
      "tags": []
     },
     "output_type": "execute_result"
    }
   ],
   "source": [
    "lda = LinearDiscriminantAnalysis()\n",
    "lda.fit(x,y)"
   ]
  },
  {
   "cell_type": "code",
   "execution_count": 226,
   "metadata": {
    "colab": {
     "base_uri": "https://localhost:8080/",
     "height": 426
    },
    "colab_type": "code",
    "id": "bZH-DIKxQ_op",
    "outputId": "c371d15f-9370-4b2b-e9ed-67c3cd99918a"
   },
   "outputs": [
    {
     "data": {
      "text/plain": [
       "Text(0.5, 1.0, 'LDA projection')"
      ]
     },
     "execution_count": 226,
     "metadata": {
      "tags": []
     },
     "output_type": "execute_result"
    },
    {
     "data": {
      "text/plain": [
       "<Figure size 576x576 with 0 Axes>"
      ]
     },
     "metadata": {
      "tags": []
     },
     "output_type": "display_data"
    },
    {
     "data": {
      "image/png": "[encoded data removed]",
      "text/plain": [
       "<Figure size 576x432 with 1 Axes>"
      ]
     },
     "metadata": {
      "tags": []
     },
     "output_type": "display_data"
    }
   ],
   "source": [
    "plt.figure(figsize = (8,8))\n",
    "xv = x.values.reshape(-1,1)\n",
    "h = 0.02\n",
    "xmin,xmax = xv.min(),xv.max() + 1\n",
    "ymin, ymax = y.min(), y.max() + 2\n",
    "xx,yy = np.meshgrid(np.arange(xmin,xmax,h),np.arange(ymin,ymax,h))\n",
    "\n",
    "z = lda.predict(np.c_[xx.ravel(),yy.ravel()])\n",
    "z = z.reshape(xx.shape)\n",
    "fig = plt.figure(figsize = (8,6))\n",
    "ax = plt.contourf(xx,yy,z,cmap = 'afmhot',alpha = 0.3)\n",
    "plt.scatter(x.values[:,0],x.values[:,1],c=y,s = 80, alpha = 0.9,edgecolors='k')\n",
    "plt.title('LDA projection')"
   ]
  },
  {
   "cell_type": "markdown",
   "metadata": {
    "colab_type": "text",
    "id": "nxcycUtVRTTn"
   },
   "source": [
    "# **PCA Vs LDA:** \n",
    "\n",
    "1. PCA identifies the combination of attributes  that account for the **most variance in the data** but LDA tries to identify attributes that account for the **most variance between the classes**. \n",
    "\n",
    "2. PCA is **unsupervised** approach ,not uses any known class labels but LDA is **supervised** method , using known class labels. "
   ]
  },
  {
   "cell_type": "code",
   "execution_count": 227,
   "metadata": {
    "colab": {},
    "colab_type": "code",
    "id": "7WWskpDtRNXR"
   },
   "outputs": [],
   "source": [
    "data = sklearn.datasets.load_iris()"
   ]
  },
  {
   "cell_type": "code",
   "execution_count": 228,
   "metadata": {
    "colab": {},
    "colab_type": "code",
    "id": "Vwl-Z0TvTeIT"
   },
   "outputs": [],
   "source": [
    "x = data.data\n",
    "y = data.target\n",
    "target = data.target_names"
   ]
  },
  {
   "cell_type": "code",
   "execution_count": 229,
   "metadata": {
    "colab": {},
    "colab_type": "code",
    "id": "vt_HHDB4Ti3c"
   },
   "outputs": [],
   "source": [
    "pca = PCA(n_components=2)\n",
    "x_pca = pca.fit(x).transform(x)"
   ]
  },
  {
   "cell_type": "code",
   "execution_count": 230,
   "metadata": {
    "colab": {},
    "colab_type": "code",
    "id": "WWv-I1YGUDfu"
   },
   "outputs": [],
   "source": [
    "lda = LinearDiscriminantAnalysis()\n",
    "x_lda = lda.fit(x,y).transform(x)"
   ]
  },
  {
   "cell_type": "markdown",
   "metadata": {
    "colab_type": "text",
    "id": "qf6hZe1dcLY6"
   },
   "source": [
    "![ldapca.JPG](data:image/jpeg;base64,/9j/4AAQSkZJRgABAQEAeAB4AAD/4RDyRXhpZgAATU0AKgAAAAgABAE7AAIAAAANAAAISodpAAQAAAABAAAIWJydAAEAAAAaAAAQ0OocAAcAAAgMAAAAPgAAAAAc6gAAAAgAAAAAAAAAAAAAAAAAAAAAAAAAAAAAAAAAAAAAAAAAAAAAAAAAAAAAAAAAAAAAAAAAAAAAAAAAAAAAAAAAAAAAAAAAAAAAAAAAAAAAAAAAAAAAAAAAAAAAAAAAAAAAAAAAAAAAAAAAAAAAAAAAAAAAAAAAAAAAAAAAAAAAAAAAAAAAAAAAAAAAAAAAAAAAAAAAAAAAAAAAAAAAAAAAAAAAAAAAAAAAAAAAAAAAAAAAAAAAAAAAAAAAAAAAAAAAAAAAAAAAAAAAAAAAAAAAAAAAAAAAAAAAAAAAAAAAAAAAAAAAAAAAAAAAAAAAAAAAAAAAAAAAAAAAAAAAAAAAAAAAAAAAAAAAAAAAAAAAAAAAAAAAAAAAAAAAAAAAAAAAAAAAAAAAAAAAAAAAAAAAAAAAAAAAAAAAAAAAAAAAAAAAAAAAAAAAAAAAAAAAAAAAAAAAAAAAAAAAAAAAAAAAAAAAAAAAAAAAAAAAAAAAAAAAAAAAAAAAAAAAAAAAAAAAAAAAAAAAAAAAAAAAAAAAAAAAAAAAAAAAAAAAAAAAAAAAAAAAAAAAAAAAAAAAAAAAAAAAAAAAAAAAAAAAAAAAAAAAAAAAAAAAAAAAAAAAAAAAAAAAAAAAAAAAAAAAAAAAAAAAAAAAAAAAAAAAAAAAAAAAAAAAAAAAAAAAAAAAAAAAAAAAAAAAAAAAAAAAAAAAAAAAAAAAAAAAAAAAAAAAAAAAAAAAAAAAAAAAAAAAAAAAAAAAAAAAAAAAAAAAAAAAAAAAAAAAAAAAAAAAAAAAAAAAAAAAAAAAAAAAAAAAAAAAAAAAAAAAAAAAAAAAAAAAAAAAAAAAAAAAAAAAAAAAAAAAAAAAAAAAAAAAAAAAAAAAAAAAAAAAAAAAAAAAAAAAAAAAAAAAAAAAAAAAAAAAAAAAAAAAAAAAAAAAAAAAAAAAAAAAAAAAAAAAAAAAAAAAAAAAAAAAAAAAAAAAAAAAAAAAAAAAAAAAAAAAAAAAAAAAAAAAAAAAAAAAAAAAAAAAAAAAAAAAAAAAAAAAAAAAAAAAAAAAAAAAAAAAAAAAAAAAAAAAAAAAAAAAAAAAAAAAAAAAAAAAAAAAAAAAAAAAAAAAAAAAAAAAAAAAAAAAAAAAAAAAAAAAAAAAAAAAAAAAAAAAAAAAAAAAAAAAAAAAAAAAAAAAAAAAAAAAAAAAAAAAAAAAAAAAAAAAAAAAAAAAAAAAAAAAAAAAAAAAAAAAAAAAAAAAAAAAAAAAAAAAAAAAAAAAAAAAAAAAAAAAAAAAAAAAAAAAAAAAAAAAAAAAAAAAAAAAAAAAAAAAAAAAAAAAAAAAAAAAAAAAAAAAAAAAAAAAAAAAAAAAAAAAAAAAAAAAAAAAAAAAAAAAAAAAAAAAAAAAAAAAAAAAAAAAAAAAAAAAAAAAAAAAAAAAAAAAAAAAAAAAAAAAAAAAAAAAAAAAAAAAAAAAAAAAAAAAAAAAAAAAAAAAAAAAAAAAAAAAAAAAAAAAAAAAAAAAAAAAAAAAAAAAAAAAAAAAAAAAAAAAAAAAAAAAAAAAAAAAAAAAAAAAAAAAAAAAAAAAAAAAAAAAAAAAAAAAAAAAAAAAAAAAAAAAAAAAAAAAAAAAAAAAAAAAAAAAAAAAAAAAAAAAAAAAAAAAAAAAAAAAAAAAAAAAAAAAAAAAAAAAAAAAAAAAAAAAAAAAAAAAAAAAAAAAAAAAAAAAAAAAAAAAAAAAAAAAAAAAAAAAAAAAAAAAAAAAAAAAAAAAAAAAAAAAAAAAAAAAAAAAAAAAAAAAAAAAAAAAAAAAAAAAAAAAAAAAAAAAAAAAAAAAAAAAAAAAAAAAAAAAAAAAAAAAAAAAAAAAAAAAAAAAAAAAAAAAAAAAAAAAAAAAAAAAAAAAAAAAAAAAAAAAAAAAAAAAAAAAAAAAAAAAAAAAAAAAAAAAAAAAAAAAAAAAAAAAAAAAAAAAAAAAAAAAAAAAAAAAAAAAAAAAAAAAAAAAAAAAAAAAAAAAAAAAAAAAAAAAAAAAAAAAAAAAAAAAAAAAAAAAAAAAAAAAAAAAAAAAAAAAAAAAAAAAAAAAAAAAAAAAAAAAAAAAAAAAAAAAAAAAAAAAAAAAAAAAAAAAAAAAAAAAAAAAAAAAAAAAAAAAAAAAAAAAAAAAAAAAAAAAAAAAAAAAAAAAAAAAAAAAAAAAAAAAAAAAAAAAAAAAAAAAAAAAAAAAAAAAAAAAAAAAAAAAAAAAAAAAAAAAAAAAAAAAAAAAAAAAAAAAAAAAAAAAAAAAAAAAAAAAAAAAAAAAAAAAAAAAAAAAAAAAAAAAAAAAAAAAAAAAAAAAAAAAAAAAAAAAAAAAAAAAAAAAAAAAAAAAAAAAAAAAAAAAAAAAAAAAAAAAAAAAAAAAAAAAAAAAAAAAAAAAAAAAAAAAAAAAAAAAAAAAAAAAAAAAAAAAAAAAAAAAAAAAAAAAAAAAAAAAAAAAAAAAAAAAAAAAAAAAAAAAAAAAAAAAAAAAAAAAAAAAAAAAAAAAAAAAAAAAAAAAAAAAAAAAAAAAAAAAAAAAAAAAAAAAAAAAAAAAAAAAAAAAAAAAAAAAAAAAAAAAAAAAAAAAAAAAAAAAAAAAAAAAAAAAAAAAAAAAAAAAAAAAAAAAAAAAAAAAAAAAAAAAAAAAAAAAAAAAAAAAAAAAAAAAAAAAAAAAAAAAAAAAAAAAAAAAAAAAAAAAAAAAAAAAAAAAAAAAAAAAAAAAAAAAAAAAAAAAAAAAAHNuZWhhIHNodWtsYQAAAAWQAwACAAAAFAAAEKaQBAACAAAAFAAAELqSkQACAAAAAzM3AACSkgACAAAAAzM3AADqHAAHAAAIDAAACJoAAAAAHOoAAAAIAAAAAAAAAAAAAAAAAAAAAAAAAAAAAAAAAAAAAAAAAAAAAAAAAAAAAAAAAAAAAAAAAAAAAAAAAAAAAAAAAAAAAAAAAAAAAAAAAAAAAAAAAAAAAAAAAAAAAAAAAAAAAAAAAAAAAAAAAAAAAAAAAAAAAAAAAAAAAAAAAAAAAAAAAAAAAAAAAAAAAAAAAAAAAAAAAAAAAAAAAAAAAAAAAAAAAAAAAAAAAAAAAAAAAAAAAAAAAAAAAAAAAAAAAAAAAAAAAAAAAAAAAAAAAAAAAAAAAAAAAAAAAAAAAAAAAAAAAAAAAAAAAAAAAAAAAAAAAAAAAAAAAAAAAAAAAAAAAAAAAAAAAAAAAAAAAAAAAAAAAAAAAAAAAAAAAAAAAAAAAAAAAAAAAAAAAAAAAAAAAAAAAAAAAAAAAAAAAAAAAAAAAAAAAAAAAAAAAAAAAAAAAAAAAAAAAAAAAAAAAAAAAAAAAAAAAAAAAAAAAAAAAAAAAAAAAAAAAAAAAAAAAAAAAAAAAAAAAAAAAAAAAAAAAAAAAAAAAAAAAAAAAAAAAAAAAAAAAAAAAAAAAAAAAAAAAAAAAAAAAAAAAAAAAAAAAAAAAAAAAAAAAAAAAAAAAAAAAAAAAAAAAAAAAAAAAAAAAAAAAAAAAAAAAAAAAAAAAAAAAAAAAAAAAAAAAAAAAAAAAAAAAAAAAAAAAAAAAAAAAAAAAAAAAAAAAAAAAAAAAAAAAAAAAAAAAAAAAAAAAAAAAAAAAAAAAAAAAAAAAAAAAAAAAAAAAAAAAAAAAAAAAAAAAAAAAAAAAAAAAAAAAAAAAAAAAAAAAAAAAAAAAAAAAAAAAAAAAAAAAAAAAAAAAAAAAAAAAAAAAAAAAAAAAAAAAAAAAAAAAAAAAAAAAAAAAAAAAAAAAAAAAAAAAAAAAAAAAAAAAAAAAAAAAAAAAAAAAAAAAAAAAAAAAAAAAAAAAAAAAAAAAAAAAAAAAAAAAAAAAAAAAAAAAAAAAAAAAAAAAAAAAAAAAAAAAAAAAAAAAAAAAAAAAAAAAAAAAAAAAAAAAAAAAAAAAAAAAAAAAAAAAAAAAAAAAAAAAAAAAAAAAAAAAAAAAAAAAAAAAAAAAAAAAAAAAAAAAAAAAAAAAAAAAAAAAAAAAAAAAAAAAAAAAAAAAAAAAAAAAAAAAAAAAAAAAAAAAAAAAAAAAAAAAAAAAAAAAAAAAAAAAAAAAAAAAAAAAAAAAAAAAAAAAAAAAAAAAAAAAAAAAAAAAAAAAAAAAAAAAAAAAAAAAAAAAAAAAAAAAAAAAAAAAAAAAAAAAAAAAAAAAAAAAAAAAAAAAAAAAAAAAAAAAAAAAAAAAAAAAAAAAAAAAAAAAAAAAAAAAAAAAAAAAAAAAAAAAAAAAAAAAAAAAAAAAAAAAAAAAAAAAAAAAAAAAAAAAAAAAAAAAAAAAAAAAAAAAAAAAAAAAAAAAAAAAAAAAAAAAAAAAAAAAAAAAAAAAAAAAAAAAAAAAAAAAAAAAAAAAAAAAAAAAAAAAAAAAAAAAAAAAAAAAAAAAAAAAAAAAAAAAAAAAAAAAAAAAAAAAAAAAAAAAAAAAAAAAAAAAAAAAAAAAAAAAAAAAAAAAAAAAAAAAAAAAAAAAAAAAAAAAAAAAAAAAAAAAAAAAAAAAAAAAAAAAAAAAAAAAAAAAAAAAAAAAAAAAAAAAAAAAAAAAAAAAAAAAAAAAAAAAAAAAAAAAAAAAAAAAAAAAAAAAAAAAAAAAAAAAAAAAAAAAAAAAAAAAAAAAAAAAAAAAAAAAAAAAAAAAAAAAAAAAAAAAAAAAAAAAAAAAAAAAAAAAAAAAAAAAAAAAAAAAAAAAAAAAAAAAAAAAAAAAAAAAAAAAAAAAAAAAAAAAAAAAAAAAAAAAAAAAAAAAAAAAAAAAAAAAAAAAAAAAAAAAAAAAAAAAAAAAAAAAAAAAAAAAAAAAAAAAAAAAAAAAAAAAAAAAAAAAAAAAAAAAAAAAAAAAAAAAAAAAAAAAAAAAAAAAAAAAAAAAAAAAAAAAAAAAAAAAAAAAAAAAAAAAAAAAAAAAAAAAAAAAAAAAAAAAAAAAAAAAAAAAAAAAAAAAAAAAAAAAAAAAAAAAAAAAAAAAAAAAAAAAAAAAAAAAAAAAAAAAAAAAAAAAAAAAAAAAAAAAAAAAAAAAAAAAAAAAAAAAAAAAAAAAAAAAAAAAAAAAAAAAAAAAAAAAAAAAAAAAAAAAAAAAAAAAAAAAAAAAAAAAAAAAAAAAAAAAAAAAAAAAAAAAAAAAAAAAAAAAAAAAAAAAAAAAAAAAAAAAAAAAAAAAAAAAAAAAAAAAAAAAAAAAAAAAAAAAAAAAAAAAAAAAAAAAAAAAAAAAAAAAAAAAAAAAAAAAAAAAAAAAAAAAAAAAAAAAAAAAAAAAAAAAAAAAAAAAAAAAAAAAAAAAAAAAAAAAAAAAAAAAAAAAAAAAAAAAAAAAAAAAAAAAAAAAAAAAAAAAAAAAAAAAAAAAAAAAAAAAAAAAAAAAAAAAAAAAAAAAAAAAAAAAAAAAAAAAAAAAAAAAAAAAAAAAAAAAAAAAAAAAAAAAAAAAAAAAAAAAAAAAAAAAAAAAAAAAAAAAAAAAAAAAAAAAAAAAAAAAAAAAAAAAAAAAAAAAAAAAAAAAAAAAAAAAAAAAAAAAAAAAAAAAAAAAAAAAAAAAAAAAAAAAAAAAAAAAAAAAAAAAAAAAAAAAAAAAAAAAAAAAAAAAAAAAAAAAAAAAAAAAAAAAAAyMDIwOjA4OjE3IDIyOjIxOjUyADIwMjA6MDg6MTcgMjI6MjE6NTIAAABzAG4AZQBoAGEAIABzAGgAdQBrAGwAYQAAAP/hCx9odHRwOi8vbnMuYWRvYmUuY29tL3hhcC8xLjAvADw/eHBhY2tldCBiZWdpbj0n77u/JyBpZD0nVzVNME1wQ2VoaUh6cmVTek5UY3prYzlkJz8+DQo8eDp4bXBtZXRhIHhtbG5zOng9ImFkb2JlOm5zOm1ldGEvIj48cmRmOlJERiB4bWxuczpyZGY9Imh0dHA6Ly93d3cudzMub3JnLzE5OTkvMDIvMjItcmRmLXN5bnRheC1ucyMiPjxyZGY6RGVzY3JpcHRpb24gcmRmOmFib3V0PSJ1dWlkOmZhZjViZGQ1LWJhM2QtMTFkYS1hZDMxLWQzM2Q3NTE4MmYxYiIgeG1sbnM6ZGM9Imh0dHA6Ly9wdXJsLm9yZy9kYy9lbGVtZW50cy8xLjEvIi8+PHJkZjpEZXNjcmlwdGlvbiByZGY6YWJvdXQ9InV1aWQ6ZmFmNWJkZDUtYmEzZC0xMWRhLWFkMzEtZDMzZDc1MTgyZjFiIiB4bWxuczp4bXA9Imh0dHA6Ly9ucy5hZG9iZS5jb20veGFwLzEuMC8iPjx4bXA6Q3JlYXRlRGF0ZT4yMDIwLTA4LTE3VDIyOjIxOjUyLjM3MzwveG1wOkNyZWF0ZURhdGU+PC9yZGY6RGVzY3JpcHRpb24+PHJkZjpEZXNjcmlwdGlvbiByZGY6YWJvdXQ9InV1aWQ6ZmFmNWJkZDUtYmEzZC0xMWRhLWFkMzEtZDMzZDc1MTgyZjFiIiB4bWxuczpkYz0iaHR0cDovL3B1cmwub3JnL2RjL2VsZW1lbnRzLzEuMS8iPjxkYzpjcmVhdG9yPjxyZGY6U2VxIHhtbG5zOnJkZj0iaHR0cDovL3d3dy53My5vcmcvMTk5OS8wMi8yMi1yZGYtc3ludGF4LW5zIyI+PHJkZjpsaT5zbmVoYSBzaHVrbGE8L3JkZjpsaT48L3JkZjpTZXE+DQoJCQk8L2RjOmNyZWF0b3I+PC9yZGY6RGVzY3JpcHRpb24+PC9yZGY6UkRGPjwveDp4bXBtZXRhPg0KICAgICAgICAgICAgICAgICAgICAgICAgICAgICAgICAgICAgICAgICAgICAgICAgICAgICAgICAgICAgICAgICAgICAgICAgICAgICAgICAgICAgICAgICAgICAgICAgICAgIAogICAgICAgICAgICAgICAgICAgICAgICAgICAgICAgICAgICAgICAgICAgICAgICAgICAgICAgICAgICAgICAgICAgICAgICAgICAgICAgICAgICAgICAgICAgICAgICAgICAgCiAgICAgICAgICAgICAgICAgICAgICAgICAgICAgICAgICAgICAgICAgICAgICAgICAgICAgICAgICAgICAgICAgICAgICAgICAgICAgICAgICAgICAgICAgICAgICAgICAgICAKICAgICAgICAgICAgICAgICAgICAgICAgICAgICAgICAgICAgICAgICAgICAgICAgICAgICAgICAgICAgICAgICAgICAgICAgICAgICAgICAgICAgICAgICAgICAgICAgICAgIAogICAgICAgICAgICAgICAgICAgICAgICAgICAgICAgICAgICAgICAgICAgICAgICAgICAgICAgICAgICAgICAgICAgICAgICAgICAgICAgICAgICAgICAgICAgICAgICAgICAgCiAgICAgICAgICAgICAgICAgICAgICAgICAgICAgICAgICAgICAgICAgICAgICAgICAgICAgICAgICAgICAgICAgICAgICAgICAgICAgICAgICAgICAgICAgICAgICAgICAgICAKICAgICAgICAgICAgICAgICAgICAgICAgICAgICAgICAgICAgICAgICAgICAgICAgICAgICAgICAgICAgICAgICAgICAgICAgICAgICAgICAgICAgICAgICAgICAgICAgICAgIAogICAgICAgICAgICAgICAgICAgICAgICAgICAgICAgICAgICAgICAgICAgICAgICAgICAgICAgICAgICAgICAgICAgICAgICAgICAgICAgICAgICAgICAgICAgICAgICAgICAgCiAgICAgICAgICAgICAgICAgICAgICAgICAgICAgICAgICAgICAgICAgICAgICAgICAgICAgICAgICAgICAgICAgICAgICAgICAgICAgICAgICAgICAgICAgICAgICAgICAgICAKICAgICAgICAgICAgICAgICAgICAgICAgICAgICAgICAgICAgICAgICAgICAgICAgICAgICAgICAgICAgICAgICAgICAgICAgICAgICAgICAgICAgICAgICAgICAgICAgICAgIAogICAgICAgICAgICAgICAgICAgICAgICAgICAgICAgICAgICAgICAgICAgICAgICAgICAgICAgICAgICAgICAgICAgICAgICAgICAgICAgICAgICAgICAgICAgICAgICAgICAgCiAgICAgICAgICAgICAgICAgICAgICAgICAgICAgICAgICAgICAgICAgICAgICAgICAgICAgICAgICAgICAgICAgICAgICAgICAgICAgICAgICAgICAgICAgICAgICAgICAgICAKICAgICAgICAgICAgICAgICAgICAgICAgICAgICAgICAgICAgICAgICAgICAgICAgICAgICAgICAgICAgICAgICAgICAgICAgICAgICAgICAgICAgICAgICAgICAgICAgICAgIAogICAgICAgICAgICAgICAgICAgICAgICAgICAgICAgICAgICAgICAgICAgICAgICAgICAgICAgICAgICAgICAgICAgICAgICAgICAgICAgICAgICAgICAgICAgICAgICAgICAgCiAgICAgICAgICAgICAgICAgICAgICAgICAgICAgICAgICAgICAgICAgICAgICAgICAgICAgICAgICAgICAgICAgICAgICAgICAgICAgICAgICAgICAgICAgICAgICAgICAgICAKICAgICAgICAgICAgICAgICAgICAgICAgICAgICAgICAgICAgICAgICAgICAgICAgICAgICAgICAgICAgICAgICAgICAgICAgICAgICAgICAgICAgICAgICAgICAgICAgICAgIAogICAgICAgICAgICAgICAgICAgICAgICAgICAgICAgICAgICAgICAgICAgICAgICAgICAgICAgICAgICAgICAgICAgICAgICAgICAgICAgICAgICAgICAgICAgICAgICAgICAgCiAgICAgICAgICAgICAgICAgICAgICAgICAgICAgICAgICAgICAgICAgICAgICAgICAgICAgICAgICAgICAgICAgICAgICAgICAgICAgICAgICAgICAgICAgICAgICAgICAgICAKICAgICAgICAgICAgICAgICAgICAgICAgICAgICAgICAgICAgICAgICAgICAgICAgICAgICAgICAgICAgICAgICAgICAgICAgICAgICAgICAgICAgICAgICAgICAgICAgICAgIAogICAgICAgICAgICAgICAgICAgICAgICAgICAgICAgICAgICAgICAgICAgICAgICAgICAgICAgICAgICAgICAgICAgICAgICAgICAgICAgICAgICAgICAgICAgICAgICAgICAgCiAgICAgICAgICAgICAgICAgICAgICAgICAgICA8P3hwYWNrZXQgZW5kPSd3Jz8+/9sAQwAHBQUGBQQHBgUGCAcHCAoRCwoJCQoVDxAMERgVGhkYFRgXGx4nIRsdJR0XGCIuIiUoKSssKxogLzMvKjInKisq/9sAQwEHCAgKCQoUCwsUKhwYHCoqKioqKioqKioqKioqKioqKioqKioqKioqKioqKioqKioqKioqKioqKioqKioqKioq/8AAEQgCAwGPAwEiAAIRAQMRAf/EAB8AAAEFAQEBAQEBAAAAAAAAAAABAgMEBQYHCAkKC//EALUQAAIBAwMCBAMFBQQEAAABfQECAwAEEQUSITFBBhNRYQcicRQygZGhCCNCscEVUtHwJDNicoIJChYXGBkaJSYnKCkqNDU2Nzg5OkNERUZHSElKU1RVVldYWVpjZGVmZ2hpanN0dXZ3eHl6g4SFhoeIiYqSk5SVlpeYmZqio6Slpqeoqaqys7S1tre4ubrCw8TFxsfIycrS09TV1tfY2drh4uPk5ebn6Onq8fLz9PX29/j5+v/EAB8BAAMBAQEBAQEBAQEAAAAAAAABAgMEBQYHCAkKC//EALURAAIBAgQEAwQHBQQEAAECdwABAgMRBAUhMQYSQVEHYXETIjKBCBRCkaGxwQkjM1LwFWJy0QoWJDThJfEXGBkaJicoKSo1Njc4OTpDREVGR0hJSlNUVVZXWFlaY2RlZmdoaWpzdHV2d3h5eoKDhIWGh4iJipKTlJWWl5iZmqKjpKWmp6ipqrKztLW2t7i5usLDxMXGx8jJytLT1NXW19jZ2uLj5OXm5+jp6vLz9PX29/j5+v/aAAwDAQACEQMRAD8A+jvOi/56J/30KPOi/wCeif8AfQpn2WL+7R9li/u0AP8AOi/56J/30KPOi/56J/30KZ9li/u0fZYv7tAD/Oi/56J/30KPOi/56J/30KZ9li9KPssX92gB/nRf89E/76FHnRf89E/76FM+yxf3aPssX92gB/nRf89E/wC+hR50X/PRP++hTPssX92j7LF6UAP86L/non/fQo86L/non/fQpn2WL+7R9li/u0AP86L/AJ6J/wB9Cjzov+eif99CmfZYv7tH2WL+7QA/zov+eif99Cjzov8Anon/AH0KZ9li/u0fZYv7tAD/ADov+eif99Cjzov+eif99CmfZYv7tH2WL0oAJby2ghaWaeOONBlmZwAB6k1WbXdJTO7U7QbUDnMy8L69elUvFOn/AGnwnqcNvGzyvbOqKoyScdq46+8ASr4ahvVkuL/UUSAtFNgfu0YMYwABQB6Gmp2Mn3LyBvl3cSDp6/Sks9V0/UIjJY3tvcIp2lopQwB9OK4/W9Ul1Lw3cW+haRdi7kQRL5sBjCE8dSOg9areB9D1Pw/rk9jfadHBZ3EKujQuXUOvBycDBNAHfm7twwUzxBj0BcZqODUrG5Z1t7yCUxna4SQHafQ4rznW9HnfXL1WsLmW+lnQ2VwikoiZ556CtzwR4bi0yTVJZLFYJZbpjv243j/CgDpv7Z0zcF/tC23FigHmryw6jr1oTWdMdUZNQtWWRiiESr8xHUDnqMGvOG8MajdajbpD9psv+JnO/nxoCVUg4PIxin6d4eubWTSLCeymkNlqU5uJtpxKrRsd/wCOfzoA9Hg1OxuVU295BKG+6UkBzT5b21gUtNcxRqBklnArz/w9az2fiS1tNGXUDpfz+fBeQbVg9NrEZPP1pPG2k+bq1y13p9zewSWZS1ECFtkn4dPrQB6AmoWciI0d3AyuMqRIPmHtTU1SwkmkiS9t2kj++glGV+o7V5Dq+nap/ZljbQ6SyTw2sRjl+zM7lu4BBAXHvWrBpI02+1m4k0R7i/uIUeJjCSG+UBhke/agD00XlsylluIio6kOMCj7ba7N/wBpi2/3t4xXkGmaReSwazHdQXFtZSJE8Ygs3Vd2eRsJJPvUlzpWq3Omac509bbT4ZZVkQWjsJOm1zECCO9AHq7apYLcLbte24mddyxmUbiPUCp/Oi/56J/31Xl+leGorPX9Fu9UtZb5Ps8kazm1YGNi4KgjkqAPWvTfssX92gB/nRf89F/76o86L/non/fQpn2WL0o+yxelAD/Oi/56L/31R50X/PRf++qZ9li/u0fZYv7tAD/Oi/56J/30KPOi/wCei/8AfVM+yxelH2WL0oAf50X/AD0T/vqjzov+eif99Uz7LF6UfZYv7tAD/Oi/56L/AN9UedF/z0T/AL6FM+yxf3aPssXpQA/zov8Anov/AH1R50X/AD0X/vqmfZYvSj7LF6UAP86L/non/fVHnRf89F/76pn2WL0o+yxf3aAH+dF/z0T/AL6FHnRf89F/76pn2WL+7R9li9KAJqKKKAKeq37aZpst2tu9x5QyY0IyR+NVLvxDDaeGU1kwyNG6K4jBAbntVnWYLq60e4gsfL86RCq+YcLzWZaaZqSeGYtOvIbOd44lTaxJRsevFAGtp16b6xS5eEwbhnazA4/EVk/21qd7ql5b6Rb2ksVqwUySTEZJGewqz4d0iXStNkguijGSRn8tPuoD/CPaq+gW0Nrr2sx20SxJ5qHaowM7RQBL5/iX/nysP+/7f4Uef4l/58rD/v8At/hW3RQBief4l/58rD/v+3+FHn+Jf+fKw/7/ALf4Vt0UAYnn+Jf+fKw/7/t/hR5/iX/nysP+/wC3+FbdMeWOMgSOqk9MnGaAMfz/ABL/AM+Vh/3/AG/wo8/xL/z5WH/f9v8ACtuigDE8/wAS/wDPlYf9/wBv8KPP8S/8+Vh/3/b/AArbooAxPP8AEv8Az5WH/f8Ab/Cjz/Ev/PlYf9/2/wAK26KAMTz/ABL/AM+Vh/3/AG/wo8/xL/z5WH/f9v8ACtuigDE8/wAS/wDPlYf9/wBv8KPP8S/8+Vh/3/b/AArbooAxPP8AEv8Az5WH/f8Ab/Cjz/Ev/PlYf9/2/wAK26KAMTz/ABL/AM+Vh/3/AG/wo8/xL/z5WH/f9v8ACtuigDE8/wAS/wDPlYf9/wBv8KPP8S/8+Vh/3/b/AArbooAxPP8AEv8Az5WH/f8Ab/Cjz/Ev/PlYf9/2/wAK26KAMTz/ABL/AM+Vh/3/AG/wo8/xL/z5WH/f9v8ACtuigDE8/wAS/wDPlYf9/wBv8KPP8S/8+Vh/3/b/AArbooAxPP8AEv8Az5WH/f8Ab/Cjz/Ev/PlYf9/2/wAK26KAMTz/ABL/AM+Vh/3/AG/wo8/xL/z5WH/f9v8ACtuigDE8/wAS/wDPlYf9/wBv8KPP8S/8+Vh/3/b/AArbooAxPP8AEv8Az5WH/f8Ab/Cjz/Ev/PlYf9/2/wAK2XdY0LucKoyTWZaeIbG8vPs8Tnf2yODWcqsINKTs2XGnOSbitiHz/Ev/AD5WH/f9v8KPP8S/8+dh/wB/2/wrborQgxPP8S/8+Vh/3/b/AAo8/wAS/wDPlYf9/wBv8K26KAMjR9Tvbu+vLTUbeKGW228xOWDAj3Fa9Ymmf8jVq/0j/lW3QAUUUUAFFFFABRRRQAViaR/yMWs/9dE/9BFbdYmkf8jFrP8A10T/ANBFAG3RRRQAUUVV1K9XTtMuLx1LCGMuQO+KaV3YC1Xz18Xf+En/AOE4P2f7Z9m2r9m8jO3P4Vu+F/jVf6v4vhsLyyjW1uZCiFPvLXsrxRyYMiKxHIyM4rtjz4Od5q9yNJrQx/B39of8Ijp/9sZ+1+SPM3dfxrboorjk+aTZYUUUVIBRRRQAUUUUAFFFFABRRRQAUUUUAFFFFABRRRQAUUUUAFFFFABRRRQAUUUUAFFFFAEdxCLi3eJjgOuK5vTfCslpqSzyygpGcqB1NdRRXPVw1OrJSmtUb069SnFxi9GFFYGqeJ49PvTbrEZNv3jnpW1a3CXdrHPH91xkU4V6dSbhF6omdGpCKlJaMlooorcyMTTP+Rq1f6R/yrbrE0z/AJGrV/pH/KtugAooooAKKKKAEZlRdzsFHqTijcu3dkbeuc8Vk+KhaHwze/2gVEIjJyxwM9q56a+huvh5Yi3nEkapF9o2HJCfxZoA7dWV1ypDD1BrF0j/AJGLWf8Aron/AKCKq+DedNvPshxa+e32YnONvt7U7w4l0muayL6WOWTzU+aNCoxt9MmgDo6KKKACmTRJPC8UqhkdSGU9xT6KAPlHXLn/AIRT4n3E+j2y25tp/wB3E4znntX1FpN3JfaRa3UyeXJLErMvoSKqXvhTQ9Q1FL+80y3luUORIyDNayqFUKowAMADtXZiMRGtGKtqiIx5RaKKK4ywooooAKKKKACiiigAooooAKKKKACiiigAooooAKKKKACiiigAooooAKKKKACiiigAooooAKKKKAMTUvDNvqN59oLsjH7wHete3gS2t0hiGFQYFSUVjCjThJzitWayqznFRk9EFFFFbGRiaZ/yNWr/AEj/AJVt1iaZ/wAjVq/0j/lW3QAUUUUAFFFFACMiuu11DKeoIzTVhjVdqxqF9AoxT6KAEVVRcIAo9AMVi6R/yMWs/wDXRP8A0EVt1iaR/wAjFrP/AF0T/wBBFAG3RRRQAUyWVIIXllYKiAszHsKfVXU7FdS0u4s3YqJ4yhI7ZFNWvqBxll8ZPCd94gGkxXbCUvsWQrhWPpmu9BBAI5Br560r9n7VrbxdHcXF7D9him8wOp+YjOcV7nrF8dE8OXN3EhlNrCWVfXArrxFOinFUXe5EXJ/EeKfE/wCIXibSfG8tlp9y1nb2+DGgX/Wf417P4W1C51XwvYX19H5dxNCGdcY5rxHwp48n8XePrS38Q6ZaXaTsQh8rLR46V9BoiogVFCqowAB0rTFpQjGny2YoatsWiiivPNAooooAKKKKACiiigAooooAKKKKACiiigAooooAKKjmnjt4y8zBVHc022u4btC0DhwOuKdmTzK9r6k1FFFIoKKKKACiiigAqN54o3CvIqsegJqSuH1rTtRk1p3VHcMRsYHgVyYqvKhFOMbnTh6Ma0mpSsdxRWZZ6nbRrFazXCmcKARnvWnW9OpGoroxnBwdmFFFFaEBRRRQBiaZ/wAjVq/0j/lW3WJpn/I1av8ASP8AlW3QAUUUUAFFFFABRWdrWqjSbJZViM0sjiOOMHG5j71nTeK1h8NyaobY+ZFJ5bwlsbWzjrQB0VYmkf8AIxaz/wBdE/8AQRV/Tb432nJdSBE3DJCPuA/GsvQbmG617WXt5VlTzUG5TkZ2igDoKKKKACgkKpJ4A5NFNkQSROjdGBBoA8a+JPxmtLO0n0vw9Oy3gfY0wHC+uKd8FfE2seJG1Cz1eVr2yCcSSDPJ6ivEviBYx6b401CC3YvEk5xu69a98+AFzZyeCpIYBi4jlPmjHr0r3q9GnRwt4rcwjJudmdrpPgXw9omqPqGnafHFcNn5v7v0roajkuIYWVZZURm6BmAzUleHKUpayNwoooqQCiiigAooooAKKKKACiiigAooooAKKKKACimySLFGXkO1VGSTVe11K2vHKwSBmHanZkuUU7NlfXLCS/sgkJ+ZTnB71X8P6ZPYiR7jgv0UGtqqep6imm24kcFiTgAd6pSbXKjCdKnGftpdC5RWfpWrJqSNhdjr1FaFS007M2hOM480dgooopFhTZJEiQvIwVR1JNVb3VLTT9oupQpboKzPEMUuq6TG+nN5i7txCn7wrnq11CMuXVrob06TlJc2ifU3IZ4503Qurr6g0513KR6iue8KWF3aRzNcgorH5UJroqdCpKrSUpK1xVoKnUcYu5xf/CM339r7+PL8zdvzXZqNqAE9B1paoa2Lg6TN9kz5mO3WsadCGFjKUNeppUrTxMoxl6F5XVvusD9DS1w/hu6mttUK3UrJGV5Eh6mu4BBAI5BqsLiViIc1rCxFB0J8t7hRRRXWcxiaZ/yNWr/SP+VbdYmmf8jVq/0j/lW3QAUUUUAFFFFAGZrulSarZIlvKIZ4pFljdhkAg9xVK00K9tNJmthNbzSzOZGaSIlSxPPGeldBRQBlaBpDaRp7wzSLK8khkbauFGewHpVbRIo4fEGsrEiovmIcKMfwit6sTSP+Ri1n/ron/oIoA26KKKACo5riG3TfPKka+rtipCQqkngDk18wfG7x+Na11dP0i5mEFoSr4OAWrqw2HliJ8qInJRVyT4/WGn2/iu3uLWNVNxHvd4zncfWuS8JeP9X8Hw7tLmURmQF42X7/ANaxdBhv/EviCz05rh3eZxGrSHdtH419LWvwR8O/8IsmnXieZdD5jdqMNmvdq1KeGpxpVdTninN8yPFda8Va/wCOfETXUEV0JAFEcUBJCflX0/4Ujv4vCunpq5JvFhUS565x3rH8E/DrS/BMcxtGe4nmxull64HYV19ePi8RCpaFNWSN4Ra1YUUUVwGgUUUUAFFFFABRRRQAUUUUAFFFFABRRRQBV1KD7TYSRbwm4cE1j6Ho09reefKy7QMDac5qbxPHcvZqbfcVB+YLWDpWrXOnMxk3PGRjafWuiEW4aHk4irTjiFzrbqbWqeIJrS+MMKKVTrnvV+a2i1rTYzJldw3DHY1m2z2OtyPLdQ7JIxk88EVqWWqWMz/Z7ZxlRwMdqmSstFqa0pc7fPK8XsLpmlRaajBCWZupNWbmQw20kijJVSQKzJ/Etnb3RikyFU4L9ga0oLmC8i3wSLIh7g1hN3fK3qd1HkUfcWiOPsPE162pDz2DRMTuXH3RW7Z+JrO8vPs67lJ+6SODVttHsj5hWBVaQEFgK57/AIRc2Ujyi6BYA+WvQ5rxuXGYa2vMrnsc2Fr305WJ4vtg0q3aSqwA2lM1e8MX9rHo+x5dpjOX3cYrj7u2vEy00ci4b5mbpmoVlZYXjHzEkEkGvK+uuniXVUbXPT+pqph1S5r2PT/7QtvsrXCyq0ajJINZMXi/T5JCjlk54JHWqHhnTHutKuPOO2KcYUA9Peqs/gu8SUNDKkg6c8Yr1Z4nFyhGpSjozzIYfCxnKFSWx2sUqTxLJEwZGGQRT6qaXZmw0+O3ZtxUcmrdevBycU5bnmSSUmo7HF6/ot9NqrSQRmRHxgg9K6vToZLfT4YpjudVAJqzUc8yW8DyynCIMk1zUsLChOVRPc6KmInVhGm1sSUVjad4ltdRu/IRWRj90sOtbNdFOrCquaDuY1Kc6btNWMTTP+Rq1f6R/wAq26xNM/5GrV/pH/KtutDMKKKKACiiigAopskiQxl5XVFHVmOAKb9oh8nzvNTysZ37uPzoAkrE0j/kYtZ/66J/6CK2Y5UmjDxOrqejKcg1jaR/yMWs/wDXRP8A0EUAa1zcxWdrJcXLiOKJSzsewFcxoHxK8OeJNXbTdNuy1wM7Qykb8elbmvaWNb0G805nMYuIim4ds15V4F+Dmo+H/F0Wp6ldxtDak+UI+r/WumlCk6cnN69CW3fQ9kZQ6FW6MMGvCvFXwEgm1i51SPWUtbORjI6yLyvfANem/EPxPP4T8Iz6jZxCSYEKmRwCe5rwXU/F/i34gae2nmI3CwHzXFuMZHvXVgqdZe/B2RFTl2Zw8ypp/iRo9KLMsc2yKcHHQ9a7y5+LPimPXYorfUhttysYhUAiT1z61B4E8GaNqst3b63ffZb9iVtrdmx83vSXPwo8V6V9ovVswBaAssiHJb3Ar16kqMpcs913MUpJXR9OaXdte6Xb3EgCySRhmUdiRVuvBfgneeIpPFE8Vy91JYeUfN8/OA3tmveq+dxFL2VTludMXdBRRRXOUFFFFABRRRQAUUUUAFFFFABRRRQAVT1LUYtOg3yZJPCgd6uVka0lndhYJrhY5QcrVRSb1Ma8pRg3HcxItevJ9QBVvkZseXjtVrxFYzyyRtDETGRyFHQ1qaXosFiu84kkPO4in6zfPYWXmRqCxOBntW3Mub3Tg9hL2LdZlLSNHMekyLKCkswwSe1Rab4entr8SzOuxOmO9WdB1Wa/MiTgZXkEVtVEpSTaNqNGjUhGUehyOu+FZp2aazfeC24xmrvhnTrjTLaZ7obA3ITPSuhrhPEWrX41CeBZGjjXgKB1FeLjHToT+syu3se9g4SqQeHhZLctjxZcnVdgRDDv27e9ZviW6aTWG/eMwAG0A/drI02dYdShlm5UNk5rqrnwxLe3v2iCVfJlIY56ivGjUxGLpNJ3dz2JU6GFqptWVijp+v3EjQ2t3Gk0LEIQRk10V54XsbwIyKYCB/Bxmp7bw/YW0ySrCDIvQ+9aZYDgkCvZw2DkoOOIszya+Ki5qVDQhsrOKxtUggGEUVPRRXqRioqyPPbbd2FFFFMQVDd2y3drJBJ911wamopNKSsxptO6Oe0rwuLC+FxJP5mz7gxXQ0UVlRowox5YI0q1Z1Zc02Ymmf8AI1av9I/5Vt1iaZ/yNWr/AEj/AJVt1sZBRRRQAUUUUAc94zQtpUJdGe3W4QzqozlM88VgDc3hFo1jk+zC78zy9pz5O709K9AIBGCMik2jGMDHpigDnfB8bDTLowq0cD3DG3DDGF7cUeHIriLXNaW7nE7+ah3BdvG2ujAAGAMD2rE0j/kYtZ/66J/6CKANuiiigCpqmn2eqadLa6lEsts6/Or9MVxfhq48B6VeXWmeH7i3hunBVzu5P41F8Y/FN94c8KqmnLh7xjE0pH3BivmJXulikmEoV1YgOp+Yk162DwkqtNtysjGc+VnqNj8ONS1Dx87WF5bTQJdea06SgsBnPSuz+K3xB1fwpfWml6UFTMQZ5ZFzu9q+fPDvinVfDetLeaddNFN0bccg/Wvcfh9qQ+J1xcWfi+zivTaqHjnC4Iz2zXZiKMoSVSprFIiMk1ZHoXw115/Eng+HULi2SCZmKvsXAYjvXW1W0/T7XS7KO0sIVhgjGFRRwKs14FSSlNtbHQtgoooqBhRRRQAUUUUAFFFFABRRRQAVBe3aWVq00vRew71PVXUYIbmyeO4bYh/iJ6U1a+pE7qL5dypp+vQXrMrjyioz8xrJvtHuL3UGmtmWSNzndnpTLjQdtp5tjL55zzg9q0/Dlnc2sMhuAVDHhTW+kVeJ5a9pWap1V8w1W9m0qwhji5cjBY1HY6lHqGmy/wBpBSE6+9Vda1oG4e3eBXjQ45rDgSS5dkgDAHkgdhTUVy3ZlUxDVblg7rax12j3WnEvHZDYepz3rWDBhlSCPavK5byeKRgjbecfKecVasfEF5aRNHFKcMerc4r5+rm9CNXlSuu59VhcqxDoJzsn2PS6rXOn213kzRKzEYyRzVHw7qU2pWBe4HzK2MjvWjNdwW5AnlVCemTXoRnTrU1N7Puc7hOlUcVuuxzP/CERfa9/2g+XnO3FdTFEsMKxp91RgVi6p4nhsLkQpGZTjJIPSrFv4j064KL5wVmHQ9q5KEsHRm402kzprLFVYKU02jH1zxFeWeptBbhVSP1H3qy9Su9SurpJsSqGUGMJnFdpcaXZX0qyzRK7dj61aEUaqoCLhenHSsp4KtVlLmqadDSGLpU4rlhr1IdPMp0+H7R/rNo3VZoor1YrlikebJ3dwoooqhBRRRQAUUUUAYmmf8jVq/0j/lW3WJpn/I1av9I/5Vt0AFFFFABRRRQAUUUUAFYmkf8AIxaz/wBdE/8AQa26xNI/5GLWf+uif+gigDboopGztO3rjigDE8U2Fjrei3OnXAgmmaMmOKQjO7HBxXxnr2k6joupyW9/by27BzgMCM89q9O1XRvGTfEuUiG+a4a73RyrnZsz69MYr0P4m/DTU/FosLzTnhN1DGElSTgMfWvdw044RqLldS/A55pzPDvBfwy1zxk6z2Mai0DgSTOcAetfVnhbwrp3hXSo7XT4ER9oEkgHLmsz4beEJvB3hdbG7kV53cu+zoPYV19cWNxcq03FPQ0pwUUFFFFeeaBRRRQAUUUUAFFFFABRRRQBHcyGG2kkUZKqSBXNaZrl3PqaxykMjnG3HSn67q11b33kxNsQD061qaTbwvbR3XkKkrjJIFbJKMbs86U5Vq3LB2tuXbm5itITJOwVR61x2s6618THFxCrceprpda099Qs9kTYZTkZ71wdxA0Fw8b4ypwSKujGL1OfMatWPurY6PwrdKs0kTsQX5VTXVVy3hnS2LC8lJAXhRjrUfiHUp49S8qOUqqjop70pR552RpQrOhhlKaNfUvD9vfM0i/JKe/rSaRov9nl3lYOzDHA6CsEa9qAdAXxtxwR96uxgkMtujsMFlBIqZ80Y2ZpQdCtU54xs0Yd/wCE7CdnmDGE5yTngVxl5bRWuoPBG4mjVhlxXo2rW8t1p0kcBw5HHvXBtYwRXEr3jmMoOUH8Rrwcdl0J0/aUlqtz38LmkqVdUqr917ep32lrAumw/ZVCxlQRxXOeJdKvrnUhLAhljIwAD0pfD/iCWS7isnjUREYTb2rra1jGljcOop2sOUqmEruTOXXwmLm0hNxKyTBcNisK98K6hb3W2FPMTPysDXotFKpldCats+5VPMa8H3R519s1W0u0haSQSRkAJ616FCWaBC4wxUZpDBE0gdo1LDvipK2wuFlh27yvcyxOIVe1o2Ciiiu44wooooAKKKKACiiigDE0z/katX+kf8q26xNM/wCRq1f6R/yrboAKKKKACq97qFpp0Ilvp0gjJwGc4GasU10SQYkVWHowzQBy2p+Knnuo7fw7cWsxELzySOCw2rj5Rg9eam1fXr5PCtnqWlxfvLgxl8xGTYp6naOTir2q+G7TVHjffJbSRgrugwpZT1U+1Sy6PusRa215PbRqoVfLx8oHbkUAS6VfLeaTFcm4SYFctIilR78HpWX4evLe913WZLWVZU81BuU552itbTNNh0qwS0t9zIuSSxyWJ6k1naMip4h1kIoUeYnAGP4RQBf1jVItG0e61G4BMdvGXIHU47V5t4N+NC+JfFCaVd6d9mS4J8iRWz+Br06/soNSsJrO7TfDMhR19Qa4zwx8JdC8Ma7/AGpbNNNKufKWQ5Eea6aToqEuda9CXe+hxnjj4w6vofjSaw022gFvaMFfzV+aT1r17QtUGtaHaagq7PPjDlfQmvOvjN4JtL/QJ9ZsbDfqKEb3j6lfXHesT4FXOutqN1BctcNpyRjHnZwre2a6p06VTDqcNGtyE2pWZ7hRRRXmGoUUUUAFFFFABRRRQAUUUUAFFFFAEE9nb3DBpolcjoSKmVQihVGAOgFLSbhzg809SbRTuLXJaxp1taXLzPOMMd3ld6S91i+j1VlVyqq+AmKXUtIu72886MBxIB3+7W8I8ru2eViKyrRcYxu0aGl62LmN4lh2NGmVA6Gub2TahqnzctI/PtXV6bpdtpKBpXHmsMEsavx2lsknmxxIGP8AEBS51FuxTw1StCKqPYhXTrSKJGmjQmNR8zCpoLy3uCVglVivYGmalbvdWEkURwzDisXQ9IurS9M042KoxjPWo0abbOqUpU6ihCOjOkrl7vw3LLfOxkTyZGySx5qve+KbuHVWjjRREj7SpHJqp4rur9ryIoZEhZAV25615M8zpwhJwV7aHrPK3WlFVHbqjXjOh6FfhQcTYwT120l74uW3vfKhh8yMY3Nmsez8OahqMMdxK4Hmdd/XFbzeErN2jZ2bKgBgD96uOnLFzi/ZRUUd044WnL95JyZt28y3FukqdHGRUlNjjWKNY0GFUYAp1e7G9lc8d2voFFFFMQUUUUAFFFFABRRRQAUUUUAYmmf8jVq/0j/lW3WJpn/I1av9I/5Vt0AFFFFABRRRQAUUUUAFYmkf8jFrP/XRP/QRW3WJpH/Ixaz/ANdE/wDQRQBt0UUUAIyhlIYAg9QaZFBFAu2CJIx6KuKkooAKKKKACiiigAooooAKKKKACs2TXbOK78hnO7OCccA1pVzs/hp5NQaVZQI2bcR3q4KL+I568qsUvZq50QOQCOhopEUIgUdAMUtQdCIrneLWTyvv7TiuGOoX1lcFy8gbPO7pXfVXurC3vIyk8YIPfFaQmo7o48Th51bOErNHKJqj6jbyKYFNwBkOo5q54ba7N24k3mLbzu9a0Y9LttHt5p7dCzhT1rO0jWribUVikClJD0A6Vq2pRfKcUYOlUj7V6i+IbK7mvVeJWdMYGOxra0qKWHTYkuM7wOc9quUVi53Vj0YUFCo6l9woooqDoM260rTvON5cxKCvJY9Kfb6hp2oHy4pI5Cv8Jo1mye/0uWCJtrsOK4zStC1ODWIiY2QI2S2eMV5VerOhWUYU7p7no0acK1JynOzWx6EBgYHAooHSivVPOCmPKEYDBJ9AKfUQ/wCPo/7n9aADz/8AYf8A75o8/wD2H/75rH8ZeJF8KeF7nVTF5rRABU9Sa4v4a/FW58X65LpepWiRSeWZI3j6Y9DW0aE5QdRLRC5knY9M8/8A2H/75o8//Yf/AL5qWuf17xUmhX0cEtuWRkLtKW2gAdvrWIzb8/8A2H/75o8//Yf/AL5riX+IU91DE2naa5LzIo3nAZT71ot41Ecj+ZYSCIFkV1YHc6jJXFAHS+f/ALD/APfNHn/7D/8AfNctN47jg0db57UbixHlCTLAAZrptPvY9R06C8gz5c8Ydc+hoAf5/wDsP/3zSidSwBDLnpkVJUU/3U/3xQBk6Z/yNWr/AEj/AJVt1iaZ/wAjVq/0j/lW3QAUUUUAFFFVdQS+e3A02WGKXPJmQsMfQEUAPuL21tGjW6uI4jI21A7Y3H0FOuLmG0hM1zKkUa9Wc4ArkPFX2uHSbY6qq3dwLuNkNrbMdoDDPrV3xRJ9r0+1kSCaaGKZJJoxGclfp3oA6SGaO4hWWB1kjYZVlOQax9I/5GLWf+uif+gim+FIJYtCIdHgWSR2iRhgopPHFReHYJbfXNaSe5a4bzUO9wAfu9OKAOiooooAy/Eusr4f8O3mpshk+zxlgo7mvNfh/wDF6+8S+KF0zU7SNEnBMTR/w+xr1e9s4NQspbS7jEkMqlXU9xXN+HPhv4e8L6k99plsRO2QGds7R7V1U5UVTkprXoS076HV0UUVylBRRRQAUUUUAFFFFABRRTZVLxMqnBIIBoE9iNbu3eYxLKpcfw5qauCXTtQh1YAI+7f94V3aZEa7uuOa0nFR2OXD15Vb8ytYdRRRWZ1iMAykMMg9RVeDTrW2lMkMSqx71Zop3ZLjFu7QUUUUigooooAKKKKACiiigAqIf8fZ/wBz+tS1EP8Aj7P+5/WgCvq+k2muaXNp+oxCW3mGGWsLwp8PND8H3MtxpcTGeUbS7nJA9BW9qt1JaafJLCMsOntWToGq3V3dtFOd67c59K2i58jSehzzrQjUUHuzoqydY8N2Ousn9oeY6L/yzD4U/UVrVy/ijxVP4euNnkrIJoibcd2kz92sToLS+ENOS0+zBpzGCCgMh+THTHpTk8Jaal0Zx5245IHmHAJ6sPeuXtvG3iCbTJLt9PhRWAEbMRgEtjBAOavXnibVLC8kttR8hF8kmNkQ/vG254OeKANJvAukPEVbztxYs0nmHc2Rggmt2xs4dOsIbO2BEUCBEBOeBXKaf4nv7qG4nUQJDZxAvE2TJIdueDms668WalIkUcrxbvMt5g9sSBtZjlD78UAeh1FP91P98VwknjfVUt1dY7V2uIvMhUZ/dfMFw3vzXaxef9igN2yNMSCxQYGaAM/TP+Rq1f6R/wAq26xNM/5GrV/pH/KtugAooooAKKKKACiiigArE0j/AJGLWf8Aron/AKCK26xNI/5GLWf+uif+gigDbooooAKKKKACiiigAooooAKKKKACiiigAooooAMDOaKK5TVNXvYtUZI2KKhwFx1q4xcmYVq0aKuzq6KitnaW1jdxhmUEipag2TurhRRRQMpanqkOl2/mz5OTgKOppmlaxBq0TNCCrL95W7Ums6QurWwjL7HU5VqZomirpMT/AD+Y7nk1xt4j6xa3uHVah7C/2jUooorsOUKKKKACiiigAqIf8fZ/3P61LUQ/4+z/ALn9aAJHRZEKuAynqDUNva29tn7PGqZ67aq669xHpEzWmfMx264rA8Jz3r37rI0jQ7cnf2NclTFclaNKz1OiGFU6bq3Wh2FQXNja3bxPdW8crQtujLrnafUVPXI+LtW1TSr2KOx3Ml6nlR4TOyT1/Kus5zej0PSld5I7GAGQ5chB8xp0uj6bJdG5ms4GmYbd7KMkelcJp9/4ge1kf7VKgt7YvsWIAM24jJ4qK01/Ubi7eOHUHv445o8O0Y+UlSSOnrQB6AdH00TrcGzgEiLtV9oyB6UkOiaZbqVgsYEVnDkKg5YdDXCLqeux6bG1zcy3JubcSlXiGEbeBgcelX4dcu00/Urm6vp/tkIdVskQAIoOFYcenNAHWJoelxNI0dhAplOXIQfMetWpuFTH94VzXgPVr/VLG9GpSecYLjZHL/eXaD1wM9a6Wf7qf74oAydM/wCRq1f6R/yrbrE0z/katX+kf8q26ACiiigAooooAKKKKACsTSP+Ri1n/ron/oIrbrGuPDkc2oT3kV7dW7z43rE+AcDFAGzRWJ/wjjf9Be//AO/g/wAKP+Ecb/oL3/8A38H+FAG3RXMP4dvv7ZiC6tffZPJYufMH38jHb61c/wCEcb/oL3//AH8H+FAG3RWJ/wAI43/QXv8A/v4P8KP+Ecb/AKC9/wD9/B/hQBt0Vif8I43/AEF7/wD7+D/CqeqeHb4WqGw1a+MnmpuzIPu7hu7elAHT0Vif8I43/QXv/wDv4P8ACj/hHG/6C9//AN/B/hQBt0Vif8I43/QXv/8Av4P8KP8AhHG/6C9//wB/B/hQBt0VhSeHJPKfZq9/u2nb+8HX8qr6Z4dvG0y3N/q1+LkoPMAkHX8qAOlqGS0glkEkkSsw6Eisr/hHG/6C9/8A9/B/hR/wjjf9Be//AO/g/wAKYmk9zb6dKKxP+Ecb/oL3/wD38H+FH/CON/0F7/8A7+D/AApDNuiuYs/Dt8b28Fzq195IceR+8HK4Ge3rVz/hHG/6C9//AN/B/hQBt0Vif8I43/QWv/8Av4P8KP8AhHG/6C1//wB/B/hQBt0Vif8ACON/0Fr/AP7+D/Cqc/h2+/tS2EOrX32Yq3mnzB14x2oA6eisT/hHG/6C9/8A9/B/hR/wjjf9Be//AO/g/wAKANuisT/hHG/6C9//AN/B/hR/wjjf9Be//wC/g/woA26icMs29V3DGCM1z2p+Hb1bBzYatfmfIwDIOmee1Wl8OPtG7V7/ADjn94P8KANcu56wnH1FIpKfcg2/Qisr/hHG/wCgvf8A/fwf4Uf8I43/AEF7/wD7+D/Ciy3Ga/mSf88j+YpCzHGYM46ZIrJ/4Rxv+gvf/wDfwf4UjeHH2nGr3+ccfvB/hQI1XHmRsjQHawwcEDiqenaVa6UrrZWezzG3MS2ST9TWZpnh29Nipv8AVr4TbjnEg6Z47elW/wDhHG/6C1//AN/B/hQBq5b/AJ4fqKOpJ+zjJGCeOayv+Ecb/oLX/wD38H+FH/CON/0Fr/8A7+D/AAoA1VJQYSDaPQECht8hUFNoBySTWV/wjjf9Ba//AO/g/wAKpweHb46rcibVr77KFXyj5g6857UAXNM/5GrV/pH/ACrbrN0vRYtLmnlWeaeScje8zZPHStKgAooooAKKKKACiiigAooooAKq6hetY24kS1muSTjZCAT9atUUAcl4hvru70N7q0iurKaAkhJJBGSPXHeuj0uZrjSbWZ23tJErFsYycU2+0mx1Iob63Sby/u7u1W0RY0CIAqqMADsKAFooooAZLIYoXcIzlQTtXqfasK51lbqynS8t73TYVTc1w+FwB75roKr31hbanZva30KzQSfeRhwaAMvwlJdS6N5l1I8iNIxhMhy2ztmtyq9lYW2nW4gsoVhiHRV6VYoAKKKKAMqXWpI70240y8Ybtvmqo2/XrVDwzNKNZ1u1lu3uFhuF8sSNkqCoOPpk10lULPQ9O0+9mu7O0jinnOZJFHLfWgC/RRRQAVFdyNDZzSRjLKhIHvipaCMjB6UAcX4Uv7qTVY0lvHulubXzpFZs+W2e3pXaVTstJsNOlkksrWOF5T87KOtXKACiiigArnLuWW38eWKLeSeVcQPugLfLkYwcV0dUJ9D0251OPUJ7RHuo/uSkcigC/RRRQAUUUUAc94vmSDTlYXk0FwTtgSJ8GR+1bGnef/Ztv9rO6byxvI7nFRajo2n6sYjqNqk5iOULD7pq5HGkMaxxjaijAA7UAOooooAKgvk82xlQOyEqcMrbT+fap6iubaK7t2huEDxsMMp70AYHgy6uprS8ivpGd4JyoDPvKj/e710lV7LT7XToPJsoVhjznCjqasUAFFFFACM2xCx5wM8Vw3h3xHcan48uYZpZliaE+XbvGVCYbGea7qoRaQC6+0iJBNt278c49KAJqKKKACiiigAooooAKKKKACiiigAooooAKKKKACiiigAooooAKKKKACiiud8XXU1r/ZPkStF5l8ivtbG4YPBoA6KiuP1+2XU/HGnWU91cRW5tJJCsE7R5YEYJwa5m/wDE1zYeGNU0s6m/mNqP2C0vWb5lQgEnP+yM8+1AHq1Fcn4A1w6n4U2zXH2q4sHa3llzkybejfiMGsqXxbrMtus+61W3vHlhiRVO+IrkAnnnpQB36yI+djK2ODg5xTq4rwdbXFn8P5biaSNriVJJDJEm0k88k55NcfqF/qU/2dkGo3TJpnmg29wU2PuPzMM80Aey0V5y11rF/OLey1DM8mkqytvwpfPJ9j71reDLqOK/u9Mnhvbe/jjSSSO5nMqsORuU5NAHXlgoyxAHqTS15p4s1zVL+G9EL28VlaX0VuY2B8xzkHOc+/SrV744urTxBBZwTxT28swt8Lbt+7Yj+/0J9qAPQaK860jWtX0/wzPc3+rQO73Txw7oGdh8x4wDk0sHjjV73Q1uIIkRo7h4rif7OzbQvfZnNAHolFec3/j/AFD7UsGkotz5dusxZLZ3E5PYY+7+NaHhS81m+8XavJdXai0XyyLV4zuTKA4Bzx+VAHbUUUUAFFFFABRRRQAUUUUAFFFFABRRRQAUUUUAFFFFABRRRQAUUUUAQXd5BYW7T3cgjjXqxpbW7gvrZZ7SVZYm6Mp4NVtacLpcoMc0m8bf3C5Ye4rO8KafPbeGRbXAkgZmcqTw4BPBPvQBbm8TaRBcSQy3qCSNtrrycH0pn/CVaN/z+p+Rqp4Ts0hh1CNyZyt4/wA8gBY9K6DyIv8Ankn/AHyKAMr/AISrRv8An9T8jR/wlWjf8/qfka1fIi/55J/3yKPIi/55J/3yKAMr/hKtG/5/U/I0f8JVo3/P6n5GtXyIv+eSf98ijyIv+eSf98igDK/4SrRv+f1PyNH/AAlWjf8AP6n5GtQwwjrGn/fIpfJi/wCeaf8AfIoAyv8AhKtG/wCf1PyNH/CVaN/z+p+RrV8iL/nkn/fIo8iL/nkn/fIoAyv+Eq0b/n9T8jR/wlWjf8/qfka1fIi/55J/3yKPIi/55J/3yKAMr/hKtG/5/U/I1Q1fUfDOuWq2+o3IdEcOu1mUhh3BFdJ5EX/PJP8AvkUeRF/zyT/vkUAcU9l4Mk8rfcyloQQj+fJuAPUZz0q1C/g6A2xj8j/RSxiypOCep9z711fkRf8APJP++RUciIHVEhjJIzytAGHaat4Zsbm4ntJoonuCDLtUgMR7VSiPg6G+e7RoxK+c8ttBPUgdBXUeSf8AnlD/AN80eSf+eUP/AHzQBjQa14cttP8AsUNyi2+0rswehqC2vvCtpIHgkjVhF5PQn5PSug8k/wDPKH/vmjyT/wA8of8AvmgDmEbwhGhWORVBj8rgtkLnOB+NS6Xd+FdHkkksrgCSUAPI7M7EDoMntXReSf8AnlD/AN80eSf+eUP/AHzTA5W9TwZqF813dMjyswZsFgGI6EjpmmmDwWb8XhZPNEglHzNtDDvjpmus8k/88of++aPJP/PKH/vmgDk5YfBkwlDyDEknmEB3GG9R6fhSC38GLZ/Zkl2Rby5CSOCxPXJ711vkn/nlD/3zSNHsUsYYSBycCkBy8o8HSrCPMWPyVCIYmZDtHY461ZivvC8Oqf2jFcBLkoEZgzYYDpkdDXSCGIgHyk5/2RS+RF/zyT/vkUAZX/CVaN/z+p+Ro/4SrRv+f1PyNavkRf8APJP++RR5EX/PJP8AvkUAZX/CVaN/z+p+Ro/4SrRv+f1PyNavkRf88k/75FHkRf8APJP++RQBlf8ACVaN/wA/qfkaP+Eq0b/n9T8jWr5EX/PJP++RR5EX/PJP++RQBlf8JVo3/P6n5Gj/AISrRv8An9T8jWr5EX/PJP8AvkUeRF/zyT/vkUAZX/CVaN/z+p+Ro/4SrRv+f1PyNavkRf8APJP++RUc5tLaIyXHkxIOrPgCgDO/4SrRv+f1PyNH/CVaN/z+p+RrSiFrPGJIBFIjdGUAg0/yIv8Ankn/AHyKAMr/AISrRv8An9T8jV6w1K01OFpbGdZkVtrFex9Kn8iL/nkn/fIrG8OKFutXCgAfbDwB/sigDcooooAKKKKACiiigAooooAxPDf3tT/6/H/pW3WJ4b+9qf8A1+P/AErboAKKKKACiiigDnfFIviIvsm/y/4tnXNaWiC5GlxfbM+Z79cVW17W20ry1jjDs/PPSsex8U3tzqUalB5btt2AdK8iVajRxTbk7voenGjVq4dWirLqdjRVa61C2slU3UoTd0zU8ciTRh42DKwyCK9VTi3ZPU87laV7DqKKKokKKKKACom/4+0/3T/Spaib/j7T/dP9KAKuu6g+laDeX0UZleCJnVB3IFeZfDb4maz4m8USafqcSNE6llZFx5eOxr1t0WRCjqGVhggjrWfp2gaVpU0k2nWMNvJIfnZFwTW9OdOMJRkrtiadzRrn/F+o3mmabHNYypF8/wC8LYzt9s966Co5oIrhds8aSKDnDDNYDPMI/FPiDV7G9aGaOKLypAqnAkGBwwXrV7/hJdTtYYVTUEm8q3idcoM3LMxBUfSu+Flaq+9beINjGQg6Un2G0Xafs8Q8vlfkHy0AcM3i6/tzqEd3PmZeYliUFUG7Aye3XvW/4L1q61rRpJb7aZYpmjLL0bHetlLSykVnjghZZPvEKPmp+LaxhJAjgjzz0UZoAmpk3+of/dNP69KZN/qH/wB00AOT7i/SlpE+4v0paACiiigAooooAKKKKACiiigArz/4t+HtZ1/QII9D3OY5MyQq2C4r0CitKc3TmpLoJq6scT8K9C1bQPCht9bLCVpCyRsclF9K7aiilUm5ycn1BKysFYnh7/j71f8A6/D/AOgitusTw9/x96v/ANfh/wDQRUDNuiiigAooooAKKKKACiqGtNs0uWT7c1iEG4zIASPzqr4fu76Xw4lxfK883zFeArOueM9gSKAG+G/van/1+P8A0rbrnvCMzzwahJLA8DtePmNyCR09K6GgAooooArX9/Dp1v51wcLnAA6mm6dqUGpwmS3J4OCCORTNV0xNUtPJdihByrDsabpGkppNuyK5dmOWY1zXre3tb3De1L2V/tE17p1tqCgXUYfb0og02zt2VoYEVlGAcc1aorX2cObmtqZ+0nblvoYWv6FLqkscsEgUqMEN0rS0yzNhp8VuW3FByaz/ABLqVzp9tGbUYLnl8ZxS6Vqdzc6HJczJulQHHH3q4oyowxMrJ81jqaqyoRu/dubVFctoGt317qZhuPnRgT0xtrqa6qFeNePNEwrUZUZcsgooorcxCom/4+k/3T/Spaib/j7T/dP9KAC6aRbWRoRlwp21g6Fd3018yzl2TB3buxro6apQk7CpPfFUpJKxhOk5TUk9h1ct4yl1a08ifR1mlMoMDJHztLdH/CuppC6qcFgDjPJqTc8rtYPE0drfLcX94bxYZF8oQvyexDZx+Va11Df6brFilvJfXitCoaIl/kJzli3Q/Q128d9byrlZVGWKjccZIoe+t0Qt5qsAQCEOSMnHagDhtKbURcQjVvt6nyB9mCBtpfJzvx+HWqEkesXVvLGqX0rFc3CzKdok38bc9selelNdwKrnzVbYMsFOSPwpVuYWxiVQWGQCcHH0oA83kOvHzUgOoC5KuJ8g7FH8Ozt+Vd7p1qbTQ44neV38vLNKxZs4561ejljlXMTq49VOaSb/AFD/AO6aAHJ9xfpS0ifcX6UtABRRRQAUUUUAFFFFABRRRQAUU2SWOJcyuqD1Y4pQwZQVIIPQigBaKY00SyCNpEDnopYZNPoAKxPD3/H3q/8A1+H/ANBFbdYnh7/j71f/AK/D/wCgigDbooooAKKKKACiiigClq2kWet2JtNQjaSEsGKq5Xke4qays4rC1W3t93lr03sWP5mp6KAMTw397U/+vx/6Vt1ieG/van/1+P8A0rboAKKKKACiiigCpqkksWmzPB/rFUkVxuh+JJ7e+YX8rPC3XPODXReKrjyNIKqxVnOAB3rm9G0E6raySqwjYHAzXg42pVeKjGjuj2cJCksNKVXZnYPf2NxprXLlZIF5ORmotJ1e01DdDbJ5ewfdIxxTLLQUt9Jezmff5hyxHrVaKytPDEL3UjtIzfKP8K7XKupRnNJK2px8tFqUItt30NyO3hhYtFEqFupAxmpKo6XqsOqQs8IKlTgqe1Xs1205QlHmhscs4yjK0twooorQgKib/j7T/dP9KlpkkZZgyttYcdKAI71JJLKVYDiQqQp965zw7Y6jb6k73AdY8HduP3jXS7Jv+eo/75o2S/8APUf981zVMOqlSNRvY3p1nCEoJbktcx4v0nUr77PNo3+tOYZctj923U/hXRbJf+eo/wC+aNkv/PUf9810mBwWn+CryGT/AEpBtiimETs2drFsqayNJ0y61K+uU06y8gQxW6SMH4kZZMsc/QV6psl/56j/AL5pFhdPuuq59EoA4NfB2oQQB7eELcSPcecwflgzEr/SrVhoepWX2tZNPWe5kT9zdM4Oz5cbea7PZL/z1H/fNGyX/nqP++aAOT8C6NqekzX51CJoopipRGZTzjngdK66b/UP/umm7Jf+eo/75oMUjDDScHr8tAEifcX6UtAGAB6UUAFFFFABRRRQAUUUUAFFZ2va3a+HtGn1K/JEMIycdSfSsPwX8QtN8aNPHZRyQzQ8mOTqR61oqc3FzS0FdXscx8ZdC8Q6ulk2ipNNbpkSRRHnd2Ndb8PbDVNN8G2lvrjMblQeGOSo7Cunoq5Vm6ap22FbW54P4p8KeMrr4mG5tFuGjacNDOrHaiZ6V7rDuEKLIcuFAY+9V9WNyNHuzYf8fIhbyv8AexxXjPwwuPGEnjx11M3bWuG+0ifO0HtjPvW7viKd3Zcovhfqe41ieHv+PvV/+vw/+gitusTw9/x96v8A9fh/9BFcJZt0UUUAFFFFABRRRQAUVU1PUF0vT5bt4pJVjGSsYy1SWd5He2EN3FkRzIHXdxgGgDL8N/e1P/r8f+lbdYfhlg39pFSCPtj8g/StygAooooAKKKKAKWp6ZFqluI5SVwchh2pdM02LTLbyoSTk5JPerlFZexhz+0tqae0nycl9DO1zUJNO08zQrubOB7Vl6fMfEunyw3w2mMgh1ropYknjKSqHU9QRWPrdnJb6OU0uPZ83zBByRXJiKc+Z1G7xtsdFCcOVQStK+5c0rSodLhZYWLFjkse9c/rI1T+2x5PmbMjZt6VpeF0vFtJPtm8Ln5A/Wt3FJUY4ihFRvFDdV0a0m/eGQ7/ACE8z7+0bvrT6oatqP8AZ1urqm5mOADS6VqP9o2xkKbWU4Ir0lFqNzznWg6nJ1L1Nd1jQs5CqOpNOqtqFsbyxkhVtpYcGhblSbUW0Pt7uC6B8iRXx1xU1Y2i6TLp8jvMwywwAK2ackk9CKUpyheaswoooqTUKKKKACiiigAooooAKKKKACiiigAooooA4Xxb8U9L8Ka0mmzwSTy4BkKdEBrs7G8i1CwgvLY7op0DofUGuQ8VfC/R/FespqV28sUwAEgjPDgetcrd/FtfD3ihPD9npynT7NxbEknfxxxXZ7KNWCVJarci7T1Oz+IupaBa+G3s/EsrLDdfKqoMsSO4rN+GPhrQNI059T0S8a6F18vmSYBA9MVb8f8AgKPx1Z2rJcm2mg5RiMgg9civIfHuh6r4BjsLK0v5vsRG4OjYzJ34rahCNSn7KMrN9BSdnc+kqx/EfifTfC2ni71aUojHaoAyWPsKg8D3k194M06e6nWeZohvcHOTVLx/4Hj8baXFbm4NvNC25HxkVxxjFVOWo9C9baGxoHiHT/EumLfaVL5kRODkYKn0NaYUA5AA+grmvAvg+PwZoRsUnM7u++R8Yya6aoqcqk1DYFe2oVieHv8Aj71f/r8P/oIrbrE8Pf8AH3q//X4f/QRUDNuiiigAooooAKKKKAKOtRXU+jXMNhGkk8iFVWRto596g0OyuIvDdtZarDGskcQjdEfcpwPWtWigDn/CdvFaRajDboEjW8fCjt0roKxPDf3tT/6/H/pW3QAUUUUAFFFFAGB4n1ybSo447YDzJP4iOlT+G9Tn1PTjJcr8ytjOOtN8SSWUVojXtv5xJ+VelTaFe21zp4NvEIFQ4K+leapSWMac9LbHe1H6qmoa33Leo3n2GxkuCu7YOlZeha++qTyQzRhWUbgV6YrakjjniKOA6MMEetcjrltLpNxGNMjaGNxksmck+lPFTq0pKrF+6t0Th4U6idNr3nsy3N4peLVjbrCPKV9hPeulByoPqKx9M0uGeCG8vbcfasZJP88Vru6xRl3OFUZJrXDe1UXKo9Ht5Gdf2d1GmttyO5tYruLy513LS21rFaReXAu1a5uPxa0urCGONWhL7QR1+tdSDkVrRxMK6fI9jKrhpUZJzWrAnAyax4fEMM1+LcRkAttDZ6mtg89azotDtIr37SobdnIXPANdMeXqclVVbrk+Zo0VG9xDE4SSRVY9AT1qSpNrphRRRQMKKKKACiiigAooooAKKKKACiiigAooooAK5y68BeHb3XhrFxp6NeBt27PBPqRXR0wTRmQoJFLjqu7n8qqMpR+EB4GBgdK8c+PdvataafPJdhLhCVSA/wAQPU1q6p8a9N0zxVLpcljI1vDIY5LkN0I68V4f8SfFEnizxbNdo8otVO223HoPpXqYLC1FVUnojKpJWPYNOmvNF+B4m8L3DXU5OWdBzHnrge1Xfg1rXiDVra9GttNNAhHlSzA5z3FeMfDXxJ4mh8UWOnaXPPLbtKBJb8lME8kivrWKNY4wERU9QoxSxi9jeDSd9bhD3tR9FFFeUahWJ4e/4+9X/wCvw/8AoIrbrE8Pf8fer/8AX4f/AEEUAbdFFFABRRRQAUUUUAFFMlljhjMkzqiDqzHAFLHKk0YeJ1dG6MpyDQBjeG/van/1+P8A0rbrE8N/e1P/AK/H/pW3QAUUUUAFFFFAFXUNOg1KDyrgHAOQR1Fctri29hbJYWEhDbsuoPJrs65y+8MNdaobhZgEZssO9ebjqMpxvTjq9L+R3YSrGMv3j0Rc8NwXMGmAXeck5UE8gVrFQ3UA/WhF2Rqo7DFLXbSp+zpqHY5ak+ebl3Ibu6isrVppjhFFZ1vqNtr9pPbxFkYrgg9a5/Vr6+vNTksnyIi+0IB29a2rXSRoljPPblpJimRkV5/1mdao1Fe4tzt9hClBOT957EOj+FhY3xuLhlcr9wCujrldC1m+uLqUXOZEVS3TGDVvTtdnutR8mRBsYnGO1dOBjTdK9FWRyY6tKnWUazu2b9FQzXlvB/rZVX6mo7vUIbS089zuU9Md67bM5nOKvd7HM68P+J0f3nXGf9murtuLWPnd8o59axEs7TXZzdIzIQRvXHWtSa+tNPiVZJAAvAA5Naz1SSOLDrklKpJ6MuUVHBPHcQiWJtynvVcataG7+ziT95nFZWZ2ucUk29y5RRRSLCiiigAooooAKKKKACiiigAqrqbXCaXctZDdcCJjEPVscVaoprRgeF/DvU/Gdz48kiv3u3gbf56zZ2p1xjPTmqFlonjDRfH02r6gt0tvayNNcXBY7HjHJA9eK+ggiqSVUAnqQOtMuLeK7tpLe4QPFIpV1PcGu7637zfKrMz5PM8J8MTeFPHfxEeS60qW3mlJkRPMykhHcirnxF+G3hLR7Rr1b86fcSvmKNzuT8AOa9D8O/DrQfDGqSahp0LCdsgF2yEB9K8N+OFxqVx46MFzMRCgH2YDptPf8666E3WrpU5NJIiS5Y6m3EP+EA8Cx3/hy5try9vZP3l1EgJiX0FelfCvxJqviXw08+tLmSOTasu3HmD1ryr4X+BteXXrSe6ty2mkb5Gk+aORT2x3r6It7aC0hEVrEkMa9ERcAVjjZQXubvuVC+5LRRRXlmoVieHv+PvV/wDr8P8A6CK26xPD3/H3q/8A1+H/ANBFAG3RRRQAUUUUAFFFFAHPeMkZtKgZkaS3S4Rp1UZymfSk8KJOmgzGFNitK7W6yAjC54/CuiIyMHkUAYGBxQBz3hHz/I1D7Xs877Y+7Z07V0NYnhv72p/9fj/0rboAKKKKACq9zfW1oyi4lVC3TJqxXPa9oNxqN4k1u4xjBDHpXPiJ1IQvTV2bUYwnO03ZHQKwdQynIPQilqvY25tLGKBm3FFwTVitotuKb3MpJJtI5278UC21Q2whyittZu9YGr+INTj1WVI5WjRWwqgdq6670mwMzX08fzINxNcRNMt3rDzZ2oX3Bm7AV89jpYiGkp7vS3Y9zBKhN3UNlrfuaGh6lf3OrReevmFjg5XoPWul1TXrfTJlikQuzDJA7CnaVf2N9n7KAHQc/Lg0mp6Db6nMssjMrLwcdxXZRpVYYf8AdS5mzkq1KU6/7yPKkXLM281us1uihZBngdaI7G3hkaSKJVc9wKkt4EtrdIYhhUGBUlerC6ikzzZqMpXOMvNGv5L13f7uSS7HjFON/E9umnyDeiHHmA9DXU39sbuykhVtpYcGuVW1i0e8DXqea55VVPH1rrjLmWp4tei6Mrx2e7OjsdOj060cRMSWGSxri2P2jUNkkuMtjea6q18Q293cCDYyh+ATVeXwtE935sUpCE5K0ovlb5i69NVoxVHVI1tOs1s7FYlbcOufWs5fDu3UvtHm/Ju3Y71tRoI41QdFGKdWPM09D0HQhKKTWwUUUVJuFFFFABRRRQAUUUUAFFFFABRRRQAVBe3kWn2M13cttihQu59AKr6vrenaFafadVuktos4DMeprI8Ra9pt18PdS1O2niuLVrZwGzwxxjFaQg21poJs8k+IvxmXV/Dc1noJmspvMGZM4Lp7elefeDrFvF+qtHrOtrbvgBGuWLFuegrl2gl1C922wd89sdK9Y8P/AAQ1m4s9PvopliE6hpRIcNHz2r6Vxo4alyp2bOW8pyPoDw/pUWiaBaafA5kSCMKHPf3rSqCxtvsenwWxYuYowm498Cp6+Yk7ts6woooqQCsTw9/x96v/ANfh/wDQRW3WJ4e/4+9X/wCvw/8AoIoA26KKKACiiigAooooAKKKKAMTw397U/8Ar8f+lbdYnhv72p/9fj/0rXuJGit5HQbmVSQPWk3ZXGld2JKK5XRdevrvVvJn+ZGzwB9yuqrGhXjXjzRNa1GVGXLIKKKK3MQoorM1+W5h0p2s8788kdQKipPkg5di4R55KPc0ZI1ljZHGVYYIrD/4ROyCy4ZiXHy5P3ab4Wub24gl+1lmQH5GfrXQVzRjSxcFOUfvNnKphpuEZHNJpjeHLGe7ifzpcYHHQVL4c1i61F5UuQG2jIYD9K3pdnlN5uNmOc9Kz9Pv9LeRobF41bPKqMZrNUPZVYqErR7Fut7SnJzjd9zSooor0DjIrqQw2sjqQCqkjNchZwy61qQ+0MzKM7mHaul1i0lvLAxwH5s5xnrVbQNPmsYpDcYUueF9K2g1GLfU8+vTlVrRi17pnatocdha+fbM3ynkE9KzbXxFdWkDRLhgehbtXS61e2iwG2uGYl/7vOKq6f4csHhErkzh+QemKuMly++ctShL21sO7Efh2/vLu5bzmZ4yMknsa6SooIYbaMRQqqgdAKlrCTTd0enQpypw5ZO7Ciobu5W0tXmk5VRnAqlpespqUjR+WUZRkDOcilytq5bqQjJQb1Zp0UUUjQKKKKACiiigAooooAKKKKAPPvi74SufEvhxZ7GXEtgGk8s9JBjp9eK8N8E+MJGhm8H624TS9Qkw0h4MD54P0yK+p9Xu1sNGu7p1LiGFnKjvgV8QarPPPrc915ex5ZS4Cj1Ne7l372m4S2Wxz1fddz6n+Hvwz03w00t/9ri1Jp1wjhRtC16IAAAAMAdhXz74C+Kdt4S8CLa3MUt5fecSIS2Aqn3r2bwj4otvF2gx6laxtECSrxt/Cw7V5+KpVlJynqu5rBq2huUUUVxFhRRRQAVieHv+PvV/+vw/+gitusTw9/x96v8A9fh/9BFAG3RRRQAUUUUAFVr3ULXToRLfTrDGTgMx71ZpGRXGHUMPQjNAHN6x4ikFpbXeh3VvND9oSKbKlshjjj0ropZRDA0rBiFGSFGT+VZmt+H4dato4GuJrVI5BJ+4wMkHIzxWpEnlwohYuVAG5upoAwPCNwt3BqEyK6q14+A6lT27GuhrE8N/e1P/AK/H/pW3QBFHbQRSF44kVm6kDrUtFFJJLYbbe4VzD+KJl1j7OIR5QfZ7109VDpdmbv7SYF83+9XPiIVZ29nKxtRnTjf2iuWwcgGsXxLf3NjZobUYLHBbGcVtU2SOOVNsqqy+jCrrQlOm4xdmRSkoTUpK6Mvw7ez3unb7hcMGwCBjdWtTURI0CxqFUdABTqdKDhBRbuFSSlNySsRXUH2m1khJxvUjPpXIWPhO9tNWWUupjVshga7SilKjCc1Ua1QueXI4J6M5XxJcajFfxrbNIseBt2dzXRWDTNYxG5GJSo3fWpyAeoBpainQcKsqnNe/Q0nWUqcYWtYRiQpx1xXFJqGqS6o8aO+5mK7ewrtqiMEYZpFjUOR1xzXZCSj0POxFGVW1pWscna6HdXd4ftO6MD7zN3rrLa3W1tlhj6KMCucspdSOtASeZjd8wPTFXdY1mawuVihQHjJJ71pPmk7HLh3Sowc2mUvsWo/23vw+N+d/bFdRUNnObm0jmI2lhnFTVnKTZ2Uaagm073I54UuIWilGVYYIqtY6Vb6ezNCCWbqSasTXMNuAZpFTPTJqRWV1DIcg9CKm7SNOWDlfqhaKKKRoFFFFABRRRQAUUUUAFFFFAHIfELxxb+DNKjea1+1yXRKJETgEd8mvn7w5Pb+KPGHkPpaJa38+2SKMcwjPVT2xX0p4o8JaX4tsVtdWjZghyjocMtN0PwZovh6xFvptnGjbSpmKguc+9ejh8TTo02kveZnKLbPmO9jsz4xbQbJWe2jvPLXGC7jOM7q+pvDmg2XhzRYbDTYzHEoycnJJPc15vonwVbS/GyatLepJbQy+bGoX5yc5ANeuU8biI1FGMHoEItbhRRRXmmgUUUUAFYnh7/j71f8A6/D/AOgitusTw9/x96v/ANfh/wDQRQBt0UUUAFFFFABRRRQAUUUUAYnhv72p/wDX4/8AStusTw397U/+vx/6Vt0AFFFFABRRRQAVieJzeCyT7Huxn59nWtujGetZVqftIOF7XNKU/ZzUrXsZHhw3Z03/AE3dnd8u7riteiinSh7OCje9hVJ883K1rhRRRWhBz+u6heW14qW5KpjIIHWtqzkeWzjeUYdlyRTphGIy8iBtozyKyLDX/td8LdotqscKRWnxR0Wxx3VKreUvi2Rt1i63q81hNHHCo5GSTW1XFa5bX0uqMTG7rn5MDjFFNJvUWMqThT9zc6ywuDdWUc7LtZhyKdPZ29ywM8SuV6E1HpaSR6bCs4w4XkVFrV61lpzSRnDk4FK3vWRtzJUeafYvqoRQqjAHQUjSIhAdwpPTJrjLfxFfLxu3jPVhVrUorm+mgmQ48xRhd2MVfsmnqcv16Mo3gjR1zSp7+SOS3YHaMEE1o6dbNaWMcLtuZRyaktY3itY0kOWVQCalrNydrHVClFS9p1YUUUVJuFFFFABRRRQAUUUUAFFFFABRRRQAUUUUAFFFFABRRRQAVieHv+PvV/8Ar8P/AKCK26xPD3/H3q//AF+H/wBBFAG3RRRQAUUUUAFFFVdQtZru3EdteS2bZzvjAJPtyKAI9S1mz0nZ9td1D9CqFgPrjpVyORZY1kjYMjDKkdxXJa9a61DaRafAt1qkVw2LifCBo09AOOtdNDbJ/ZqW4V4k8sKFDYZRj1FAGb4b+9qf/X4/9K2657wjbraQ6hDGzsq3j4LsWPbua6GgAooooAKKKKACiiigAooqK5mFvayTEZCKWwKTaSuxpXdkS0VyEfjSRZCJrcEH7oU10mm6gmpWYnjBXJwQexrlo4ujXfLB6nRVw1WkrzWhbIBBB5BqpBpdrbXBmijw57+lW6K7LtHI4xbu0BOBk1kQ6/BNfi32EAttDHua1zyKzYtDtYr37SobdnIXPANOPL1Mqqqtrk+ZpVS1PTl1G3EZbaQcg1dopJtO6NZRU48stjn5LOz0SyBuEE7s3GRWdHBc6pfefbKQm71+7XUX1hFfw+XNng5BHaixsYrCHy4c4zkk961VTTzOCWFcpqK0iiwgKooJyQOaWiisT0QooooAKKKKACiiigAooooApaxqkGi6Rcahd58qBCzYrk/BXxPsfGOpzWMVrJbTICybjnctdhqWn2+q6dNZXib4JlKuPaua8J/DjRvCF9Nd6f5sk0gwGlOdo9BW8HS9m+bfoS730OuooorAoKKKKACiiigAooooAKxPD3/H3q//AF+H/wBBFbdYnh7/AI+9X/6/D/6CKANuiiigAooooAKKKKACiiigDE8N/e1P/r8f+lbdYnhv72p/9fj/ANK26ACiiigAooooAKKKKACkZQ6lWGQRgilooAyJ/DGmzKcReWSc7lNX7KyisLZYLcYUeverFFYxoU4S5oxszSVWpJcsndBRRRWxmFFFFABRRVHUtVg0xFM2SW6AU0m3ZEynGC5pbF6iqmn6jDqMHmw54OCD2q3Q01uEZKSvHYKKKKRQUUUUAFFFFABRRRQAUUUUAFFFFABRRRQAUUUUAFFFFABRRRQAVieHv+PvV/8Ar8P/AKCK26xPD3/H3q//AF+H/wBBFAG3RRRQAUUUUAFFFVdQvTY24lFtNcZONsK5NAFqiuS8Q6hd3WiPd2cV1aTQ8hHcR5HrjvXQWNzLNokFwo86V4Vb03HFAFHw397U/wDr8f8ApW3XF22o61obS/aNHV/tt2dm2ccZrZ/tPW/+gKv/AIECgDborE/tPW/+gKv/AIECj+0tc/6Aq/8AgQKANuisT+0tc/6Aq/8AgQKrXHiHV7e8t7d9E+e4JCYnHYZoA6SisT+0tb/6Aq/+BAo/tPW/+gKv/gQKANuisT+09c/6Aq/+BAo/tLW/+gKv/gQKANuiubbxDq6anHYnRP3skZkH78YwCB/WrP8Aaeuf9AVf/AgUAbdFYn9p65/0BV/8CBR/aeuf9AVf/AgUAbdFYn9p65/0BV/8CBVW18Q6vd3F1DHonzW0gjfM464B/rQB0tZ+q6RFqiKJGKMvQiqn9p65/wBAVf8AwIFH9p65/wBAVf8AwIFNNp3RE4RnHllsX9M02PTLcxxEtk5JPerlYn9p65/0BV/8CBR/aeuf9AVf/AgUNtu7HGKhHljsbdFc3Y+IdXv4neHROEkaM5nHUHBqz/aeuf8AQFX/AMCBSKNuisT+09c/6Aq/+BAo/tPXP+gKv/gQKANuisNtU1tVLHRV4Gf+PgVBY6/rGoWaXMOiDY+cZnFAHR0Vif2nrn/QFX/wIFH9p65/0BV/8CBQBt0Vif2nrn/QFX/wIFV77X9X0+ze5m0UFE64nFAHR0VhrqmtsoYaKuCM/wDHwKX+0tc/6Aq/+BAoA26KxP7S1z/oCr/4ECj+0tb/AOgKv/gQKANuiubvvEOr2ESSTaJw8ixjE46scCrP9p65/wBAVf8AwIFAG3RWJ/aeuf8AQFX/AMCBR/aeuf8AQFX/AMCBQBt0Vif2nrn/AEBV/wDAgVWuvEOr2lxaxSaJ811J5aYnHXBP9KAOkrE8Pf8AH3q//X4f/QRR/aeuf9AVf/AgU7w7a3kC302oQrBJcXBkCBt2BgDr+FAGzRRRQAUUUUAFFcb/AMLZ8Gf9Bdf+/T/4Uf8AC2fBn/QXX/v0/wDhQB01/pNlqRQ30Cy+X93d2p8k6QWjC0CSNGnyRKwGcdq5Vviv4LZSraupBGCPKf8AwrKXxv8ADy2Z5rC8t4bnB2yeS5wT+FAG+fFH2nRbW6Onb7qWUrHAX6MvU5q+fEkQ8NDVRC2ThRFnneTjGfrXm9t4s8PxaXFDJ4otjcwTNJFIto4XB6girx8Z+EP+EdGl/wDCQJxhxJ5D58wNnPTpntQB6DomrtqsMwmg+z3FvJsli3bsHGev0rTrzfQviH4S0yO4e715J7m5k8yR1gdRnGBgY9BWt/wtnwZ/0F1/79P/AIUAde00attaRAfQsKwk1i4k8VR6bc6cgwjSJOsm4qOmcY4zXN3Pjr4cXl0bm5u4ZJj1cwvn+VMtfiD4OttWu78a4jSTIscQMD4jUdulAHUHxIx8Vvo6wRgRhS0jy4Jz6L3rfry3UfHXhfUtSt5ZdftUhidXJS1cSEj/AGvSt/8A4Wz4MH/MXX/v0/8AhQB2dRSXEUasTImVBONwzXJf8LZ8Gf8AQXX/AL9P/hWXJ43+G8ly1y11AZy27eYX6+vSgDpvDeur4haS5NtDE0eUUrLucDPcdulJH4p3639kNqRbGYwC43dXxnGK43T/AB14YtdUlv5dftRKY/LRIbV1XGc5I7mo4vGHhJNaFw3iKM2YnNwIRbvu34x1x0oA9XoJwMngVxv/AAtnwZ/0F1/79P8A4U2T4q+CpY2jk1ZWVhggxPyPyoA6u6umS2drNUuJgPlj3gZ/Gs/RtWS9sby6NqIJoZGWZFOQzKPXvXEXnjLwKljONC1SCwvZEKpceQ52568YqXRfiJ4Y0vSYrNtdtWKk7mW2cbsjr9c0Adf4Y8QN4hsTcmGKJeCFSXeR9R2rcrzDRvHnhSw1S4vrvXbdnlQRhILZ0UAHrjHWt3/hbPgz/oLr/wB+n/woA7KsDWPEx0zUDbx2hnWNVedw2Nik4/Gsz/hbPgz/AKC6/wDfp/8ACuc1rxn4T1LUGntvEUcEc6LHOjW7ncAc8ccUAdlqniOPR5fLs7LzkWL7TOVbbsQnr7muhikE0KSJ911DD8a8n1Xxh4Wv33Q+JIovNg+zXA+zOd0ee3oa6WH4qeC4YEiXWFwihR+6ft+FAHa0Vxv/AAtnwZ/0F1/79P8A4Uf8LZ8Gf9Bdf+/T/wCFAGw2tzw69Fp93ZBI7jcIpBJknHqO1QWPiBZPEU+jQW0UUducZMuGPGeFri4PHugx+JLjU5vEtrMrjbErWsmYl9Aafc+OvC15rlveT69bLFbyeYBHauHY4xgt6UAepUVxv/C2fBn/AEF1/wC/T/4Uf8LZ8Gf9Bdf+/T/4UAdkTgE1z2ieIF8RSXUM1tCkUTsm3zQzHaccr26Vmn4s+Dccawv/AH6f/Cueg8c+GE1w6hJr9qpClESK1dcgn+L1NAHZ2Pij7VqyWptDHBKzJDNuzvK9eO1dDXlFh4x8JWmsRzyeIo3tYHd4YhbuCC3XJxzXS/8AC2fBn/QXX/v0/wDhQB2VIxIU7Rk44HrXHf8AC2fBn/QXX/v0/wDhR/wtnwZ/0F1/79P/AIUAaWn6zPqWp3tjqGnJH9iCyFhJvBbqB068U/w54ibXvObyYoljYqAsu5uDjkdq5PTfiF4S04XTrr0ck91cNLI7QPyOgHTsMVBpnjvwpba5JqN3r1uSYzGscFs6DBOcn1NAHqFFcb/wtnwZ/wBBdf8Av0/+FH/C2fBn/QXX/v0/+FAG1qmtyaZq1lbNa74LolTNv+6QCen4VV0nxEms6jDFcWXlCSNrizkLZ3qDgn26/rXIeIPH/hzVb+wltPEVvDFayF2V7Z2LZBB5+hqvpHjHwvpt1HNJ4kil+ywNBaL9mcbFJBOfXoKAO4XxSG1v7J9lItjObcXG7rJjOMeldDXk8fjDwkuti4bxFGbMXBuRB9nfdvxjrjp3rpv+Fs+DP+guv/fp/wDCgDsqK43/AIWz4M/6C6/9+n/wo/4Wz4M/6C6/9+n/AMKAOyorjf8AhbPgz/oLr/36f/Cj/hbPgz/oLr/36f8AwoA+ZfKT0/Wjyk9P1oooAPKT0/Wjyk9P1oooAPKT0/Wjyk9P1oooAPKT0/Wjyk9P1oooAPKT0/Wjyk9P1oooAPKT0/Wjyk9P1oooAPKT0/Wjyk9P1oooAPKT0/Wjyk9P1oooAPKT0/Wjyk9P1oooAPKT0/Wjyk9P1oooAPKT0/Wjyk9P1oooAPKT0/Wjyk9P1oooAPKT0/Wjyk9P1oooAPKT0/Wjyk9P1oooAPKT0/Wjyk9P1oooAPKT0/Wjyk9P1oooAPKT0/Wjyk9P1oooAPKT0/Wjyk9P1oooAPKT0/Wjyk9P1oooAPKT0/Wjyk9P1oooAPKT0/Wjyk9P1oooAPKT0/Wjyk9P1oooAPKT0/Wjyk9P1oooAPKT0/Wjyk9P1oooAPKT0/Wjyk9P1oooA//Z)"
   ]
  },
  {
   "cell_type": "code",
   "execution_count": 230,
   "metadata": {
    "colab": {},
    "colab_type": "code",
    "id": "gC2Bha08UL8F"
   },
   "outputs": [],
   "source": []
  },
  {
   "cell_type": "code",
   "execution_count": 230,
   "metadata": {
    "colab": {},
    "colab_type": "code",
    "id": "CE7bMlVwUvoN"
   },
   "outputs": [],
   "source": []
  }
 ],
 "metadata": {
  "colab": {
   "collapsed_sections": [],
   "name": "Project Wine using PCA ML - 16.ipynb",
   "provenance": [],
   "toc_visible": true
  },
  "kernelspec": {
   "display_name": "Python 3",
   "language": "python",
   "name": "python3"
  },
  "language_info": {
   "codemirror_mode": {
    "name": "ipython",
    "version": 3
   },
   "file_extension": ".py",
   "mimetype": "text/x-python",
   "name": "python",
   "nbconvert_exporter": "python",
   "pygments_lexer": "ipython3",
   "version": "3.7.5"
  }
 },
 "nbformat": 4,
 "nbformat_minor": 1
}
